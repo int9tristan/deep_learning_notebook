{
 "cells": [
  {
   "cell_type": "markdown",
   "metadata": {},
   "source": [
    "## 项目: 机票航班延误预测"
   ]
  },
  {
   "cell_type": "markdown",
   "metadata": {},
   "source": [
    "欢迎来到机票航班延误预测的实战项目！在此文件中，有些示例代码已经提供给你，但你还需要实现更多的功能让项目成功运行。除非有明确要求，你无须修改任何已给出的代码。以**'练习'**开始的标题表示接下来的代码部分中有你必须要实现的功能。每一部分都会有详细的指导，需要实现的部分也会在注释中以'TODO'标出。请仔细阅读所有的提示！\n",
    "\n",
    "除了实现代码外，你还必须回答一些与项目和你的实现有关的问题。每一个需要你回答的问题都会以**'问题 X'**为标题。请仔细阅读每个问题，并且在问题后的**'回答'**文字框中写出完整的答案。我们将根据你对问题的回答和撰写代码所实现的功能来对你提交的项目进行评分。\n",
    ">**提示：**Code 和 Markdown 区域可通过**Shift + Enter**快捷键运行。此外，Markdown可以通过双击进入编辑模式。"
   ]
  },
  {
   "cell_type": "markdown",
   "metadata": {},
   "source": [
    "## 开始\n",
    "\n",
    "我们知道，航班延误对于旅客、售卖机票的平台以及航空公司都是一个比较头疼的问题。造成航班延误的因素有很多，包括台风、雾霾、飞机故障、航空管制等等原因。在这个项目中，我们将探索在飞机起飞前2小时做航班延误预测这个实际问题，你将从实际问题出发，探索数据，抽取数据特征，构建模型并作出预测。\n",
    "\n",
    "这个项目的数据来自[航班动态起降数据集](https://www.kesci.com/home/dataset/59793a5a0d84640e9b2fedd3)（数据集由和鲸社区提供），该数据集用2015年5月到2017年5月的机场情况作为训练集，用201年6月作为测试集。你可以通过报名该比赛获取数据集，另外，为了方便大家获取数据，我们也提供了一个[下载地址](https://static-documents.s3.cn-north-1.amazonaws.com.cn/nd101/MLND+documents/data.zip)，请下载后放置data文件夹中。\n",
    "\n",
    "**数据说明：**\n",
    "\n",
    "\n",
    "- ./data/2015年5月到2017年5月城市天气.csv\n",
    "- ./data/2015年5月到2017年5月航班动态数据.csv\n",
    "- ./data/2015年5月到2017年5月特情.xlsx\n",
    "- ./data/机场城市对应表.xlsx\n"
   ]
  },
  {
   "cell_type": "markdown",
   "metadata": {},
   "source": [
    " 运行下面区域的代码以载入一些此项目所需的Python库。如果成功返回提示语句，则说明载入成功。"
   ]
  },
  {
   "cell_type": "code",
   "execution_count": 1,
   "metadata": {},
   "outputs": [
    {
     "name": "stdout",
     "output_type": "stream",
     "text": [
      "你已经成功载入所需要的库！\n"
     ]
    }
   ],
   "source": [
    "# 为这个项目导入需要的库\n",
    "import numpy as np\n",
    "import pandas as pd\n",
    "import matplotlib.pyplot as plt\n",
    "\n",
    "print('你已经成功载入所需要的库！')"
   ]
  },
  {
   "cell_type": "markdown",
   "metadata": {},
   "source": [
    "## 数据初探"
   ]
  },
  {
   "cell_type": "markdown",
   "metadata": {},
   "source": [
    "### 导入数据\n",
    "我们先导入数据，然后观察头部数据。可以使用[read_csv](https://pandas.pydata.org/pandas-docs/stable/generated/pandas.read_csv.html), [read_excel](https://pandas.pydata.org/pandas-docs/stable/reference/api/pandas.read_excel.html) 分别加载对应格式的数据，然后使用[head](https://pandas.pydata.org/pandas-docs/stable/generated/pandas.DataFrame.head.html)观察前5条数据。"
   ]
  },
  {
   "cell_type": "code",
   "execution_count": 2,
   "metadata": {},
   "outputs": [],
   "source": [
    "# 文件路径 './data/2015年5月到2017年5月航班动态数据.csv'\n",
    "# 注意使用字符编码 encoding=\"gb2312\"\n",
    "# TODO: 根据以上提示信息，导入航班数据\n",
    "flight_data = pd.read_csv(u\"./data/2015年5月到2017年5月航班动态数据.csv\", encoding=\"gb2312\")\n",
    "\n"
   ]
  },
  {
   "cell_type": "code",
   "execution_count": 3,
   "metadata": {},
   "outputs": [
    {
     "data": {
      "text/html": [
       "<div>\n",
       "<style scoped>\n",
       "    .dataframe tbody tr th:only-of-type {\n",
       "        vertical-align: middle;\n",
       "    }\n",
       "\n",
       "    .dataframe tbody tr th {\n",
       "        vertical-align: top;\n",
       "    }\n",
       "\n",
       "    .dataframe thead th {\n",
       "        text-align: right;\n",
       "    }\n",
       "</style>\n",
       "<table border=\"1\" class=\"dataframe\">\n",
       "  <thead>\n",
       "    <tr style=\"text-align: right;\">\n",
       "      <th></th>\n",
       "      <th>出发机场</th>\n",
       "      <th>到达机场</th>\n",
       "      <th>航班编号</th>\n",
       "      <th>计划起飞时间</th>\n",
       "      <th>计划到达时间</th>\n",
       "      <th>实际起飞时间</th>\n",
       "      <th>实际到达时间</th>\n",
       "      <th>飞机编号</th>\n",
       "      <th>航班是否取消</th>\n",
       "    </tr>\n",
       "  </thead>\n",
       "  <tbody>\n",
       "    <tr>\n",
       "      <td>0</td>\n",
       "      <td>HGH</td>\n",
       "      <td>DLC</td>\n",
       "      <td>CZ6328</td>\n",
       "      <td>1453809600</td>\n",
       "      <td>1453817100</td>\n",
       "      <td>1.453813e+09</td>\n",
       "      <td>1.453819e+09</td>\n",
       "      <td>1.0</td>\n",
       "      <td>正常</td>\n",
       "    </tr>\n",
       "    <tr>\n",
       "      <td>1</td>\n",
       "      <td>SHA</td>\n",
       "      <td>XMN</td>\n",
       "      <td>FM9261</td>\n",
       "      <td>1452760800</td>\n",
       "      <td>1452767100</td>\n",
       "      <td>1.452763e+09</td>\n",
       "      <td>1.452768e+09</td>\n",
       "      <td>2.0</td>\n",
       "      <td>正常</td>\n",
       "    </tr>\n",
       "    <tr>\n",
       "      <td>2</td>\n",
       "      <td>CAN</td>\n",
       "      <td>WNZ</td>\n",
       "      <td>ZH9597</td>\n",
       "      <td>1453800900</td>\n",
       "      <td>1453807500</td>\n",
       "      <td>1.453802e+09</td>\n",
       "      <td>1.453807e+09</td>\n",
       "      <td>3.0</td>\n",
       "      <td>正常</td>\n",
       "    </tr>\n",
       "    <tr>\n",
       "      <td>3</td>\n",
       "      <td>SHA</td>\n",
       "      <td>ZUH</td>\n",
       "      <td>9C8819</td>\n",
       "      <td>1452120600</td>\n",
       "      <td>1452131100</td>\n",
       "      <td>1.452121e+09</td>\n",
       "      <td>1.452130e+09</td>\n",
       "      <td>4.0</td>\n",
       "      <td>正常</td>\n",
       "    </tr>\n",
       "    <tr>\n",
       "      <td>4</td>\n",
       "      <td>SHE</td>\n",
       "      <td>TAO</td>\n",
       "      <td>TZ185</td>\n",
       "      <td>1452399000</td>\n",
       "      <td>1452406800</td>\n",
       "      <td>1.452400e+09</td>\n",
       "      <td>1.452404e+09</td>\n",
       "      <td>5.0</td>\n",
       "      <td>正常</td>\n",
       "    </tr>\n",
       "  </tbody>\n",
       "</table>\n",
       "</div>"
      ],
      "text/plain": [
       "  出发机场 到达机场    航班编号      计划起飞时间      计划到达时间        实际起飞时间        实际到达时间  飞机编号  \\\n",
       "0  HGH  DLC  CZ6328  1453809600  1453817100  1.453813e+09  1.453819e+09   1.0   \n",
       "1  SHA  XMN  FM9261  1452760800  1452767100  1.452763e+09  1.452768e+09   2.0   \n",
       "2  CAN  WNZ  ZH9597  1453800900  1453807500  1.453802e+09  1.453807e+09   3.0   \n",
       "3  SHA  ZUH  9C8819  1452120600  1452131100  1.452121e+09  1.452130e+09   4.0   \n",
       "4  SHE  TAO   TZ185  1452399000  1452406800  1.452400e+09  1.452404e+09   5.0   \n",
       "\n",
       "  航班是否取消  \n",
       "0     正常  \n",
       "1     正常  \n",
       "2     正常  \n",
       "3     正常  \n",
       "4     正常  "
      ]
     },
     "execution_count": 3,
     "metadata": {},
     "output_type": "execute_result"
    }
   ],
   "source": [
    "flight_data.head()\n"
   ]
  },
  {
   "cell_type": "code",
   "execution_count": 4,
   "metadata": {},
   "outputs": [
    {
     "name": "stderr",
     "output_type": "stream",
     "text": [
      "/Users/tristan/anaconda3/lib/python3.7/site-packages/IPython/core/interactiveshell.py:3058: DtypeWarning: Columns (2,3) have mixed types. Specify dtype option on import or set low_memory=False.\n",
      "  interactivity=interactivity, compiler=compiler, result=result)\n"
     ]
    }
   ],
   "source": [
    "# 文件路径 \"./data/2015年5月到2017年5月城市天气.csv\"\n",
    "# TODO：根据以上提示信息，导入天气数据\n",
    "weather = pd.read_csv(u\"data/2015年5月到2017年5月城市天气.csv\")\n",
    "\n",
    "# 文件路径 \"./data/机场城市对应表.xlsx\"\n",
    "# TODO：根据以上提示信息，导入城市与机场对应数据\n",
    "airport_city = pd.read_excel(u\"data/机场城市对应表.xlsx\")\n",
    "\n",
    "# 文件路径 \"./data/2015年5月到2017年5月特情.xlsx\"\n",
    "# TODO：根据以上提示信息，导入特情数据\n",
    "special = pd.read_excel(u\"data/2015年5月到2017年5月特情.xlsx\")"
   ]
  },
  {
   "cell_type": "markdown",
   "metadata": {},
   "source": [
    "### 观察数据\n",
    "使用 [head](https://pandas.pydata.org/pandas-docs/stable/generated/pandas.DataFrame.head.html)观察前5条数据。"
   ]
  },
  {
   "cell_type": "code",
   "execution_count": 5,
   "metadata": {},
   "outputs": [
    {
     "data": {
      "text/html": [
       "<div>\n",
       "<style scoped>\n",
       "    .dataframe tbody tr th:only-of-type {\n",
       "        vertical-align: middle;\n",
       "    }\n",
       "\n",
       "    .dataframe tbody tr th {\n",
       "        vertical-align: top;\n",
       "    }\n",
       "\n",
       "    .dataframe thead th {\n",
       "        text-align: right;\n",
       "    }\n",
       "</style>\n",
       "<table border=\"1\" class=\"dataframe\">\n",
       "  <thead>\n",
       "    <tr style=\"text-align: right;\">\n",
       "      <th></th>\n",
       "      <th>出发机场</th>\n",
       "      <th>到达机场</th>\n",
       "      <th>航班编号</th>\n",
       "      <th>计划起飞时间</th>\n",
       "      <th>计划到达时间</th>\n",
       "      <th>实际起飞时间</th>\n",
       "      <th>实际到达时间</th>\n",
       "      <th>飞机编号</th>\n",
       "      <th>航班是否取消</th>\n",
       "    </tr>\n",
       "  </thead>\n",
       "  <tbody>\n",
       "    <tr>\n",
       "      <td>0</td>\n",
       "      <td>HGH</td>\n",
       "      <td>DLC</td>\n",
       "      <td>CZ6328</td>\n",
       "      <td>1453809600</td>\n",
       "      <td>1453817100</td>\n",
       "      <td>1.453813e+09</td>\n",
       "      <td>1.453819e+09</td>\n",
       "      <td>1.0</td>\n",
       "      <td>正常</td>\n",
       "    </tr>\n",
       "    <tr>\n",
       "      <td>1</td>\n",
       "      <td>SHA</td>\n",
       "      <td>XMN</td>\n",
       "      <td>FM9261</td>\n",
       "      <td>1452760800</td>\n",
       "      <td>1452767100</td>\n",
       "      <td>1.452763e+09</td>\n",
       "      <td>1.452768e+09</td>\n",
       "      <td>2.0</td>\n",
       "      <td>正常</td>\n",
       "    </tr>\n",
       "    <tr>\n",
       "      <td>2</td>\n",
       "      <td>CAN</td>\n",
       "      <td>WNZ</td>\n",
       "      <td>ZH9597</td>\n",
       "      <td>1453800900</td>\n",
       "      <td>1453807500</td>\n",
       "      <td>1.453802e+09</td>\n",
       "      <td>1.453807e+09</td>\n",
       "      <td>3.0</td>\n",
       "      <td>正常</td>\n",
       "    </tr>\n",
       "    <tr>\n",
       "      <td>3</td>\n",
       "      <td>SHA</td>\n",
       "      <td>ZUH</td>\n",
       "      <td>9C8819</td>\n",
       "      <td>1452120600</td>\n",
       "      <td>1452131100</td>\n",
       "      <td>1.452121e+09</td>\n",
       "      <td>1.452130e+09</td>\n",
       "      <td>4.0</td>\n",
       "      <td>正常</td>\n",
       "    </tr>\n",
       "    <tr>\n",
       "      <td>4</td>\n",
       "      <td>SHE</td>\n",
       "      <td>TAO</td>\n",
       "      <td>TZ185</td>\n",
       "      <td>1452399000</td>\n",
       "      <td>1452406800</td>\n",
       "      <td>1.452400e+09</td>\n",
       "      <td>1.452404e+09</td>\n",
       "      <td>5.0</td>\n",
       "      <td>正常</td>\n",
       "    </tr>\n",
       "  </tbody>\n",
       "</table>\n",
       "</div>"
      ],
      "text/plain": [
       "  出发机场 到达机场    航班编号      计划起飞时间      计划到达时间        实际起飞时间        实际到达时间  飞机编号  \\\n",
       "0  HGH  DLC  CZ6328  1453809600  1453817100  1.453813e+09  1.453819e+09   1.0   \n",
       "1  SHA  XMN  FM9261  1452760800  1452767100  1.452763e+09  1.452768e+09   2.0   \n",
       "2  CAN  WNZ  ZH9597  1453800900  1453807500  1.453802e+09  1.453807e+09   3.0   \n",
       "3  SHA  ZUH  9C8819  1452120600  1452131100  1.452121e+09  1.452130e+09   4.0   \n",
       "4  SHE  TAO   TZ185  1452399000  1452406800  1.452400e+09  1.452404e+09   5.0   \n",
       "\n",
       "  航班是否取消  \n",
       "0     正常  \n",
       "1     正常  \n",
       "2     正常  \n",
       "3     正常  \n",
       "4     正常  "
      ]
     },
     "execution_count": 5,
     "metadata": {},
     "output_type": "execute_result"
    }
   ],
   "source": [
    "# 观察航班数据\n",
    "flight_data.head()\n"
   ]
  },
  {
   "cell_type": "code",
   "execution_count": 6,
   "metadata": {},
   "outputs": [
    {
     "data": {
      "text/html": [
       "<div>\n",
       "<style scoped>\n",
       "    .dataframe tbody tr th:only-of-type {\n",
       "        vertical-align: middle;\n",
       "    }\n",
       "\n",
       "    .dataframe tbody tr th {\n",
       "        vertical-align: top;\n",
       "    }\n",
       "\n",
       "    .dataframe thead th {\n",
       "        text-align: right;\n",
       "    }\n",
       "</style>\n",
       "<table border=\"1\" class=\"dataframe\">\n",
       "  <thead>\n",
       "    <tr style=\"text-align: right;\">\n",
       "      <th></th>\n",
       "      <th>特情机场</th>\n",
       "      <th>收集时间</th>\n",
       "      <th>开始时间</th>\n",
       "      <th>结束时间</th>\n",
       "      <th>特情内容</th>\n",
       "    </tr>\n",
       "  </thead>\n",
       "  <tbody>\n",
       "    <tr>\n",
       "      <td>0</td>\n",
       "      <td>csx</td>\n",
       "      <td>2015-04-30 19:52:45Z</td>\n",
       "      <td>2015-05-01 12:00:00Z</td>\n",
       "      <td>2015-05-01 16:00:00Z</td>\n",
       "      <td>长沙机场航班延误黄色预警提示：预计明日（5月1日）12:00-16:00长沙黄花机场受雷雨天...</td>\n",
       "    </tr>\n",
       "    <tr>\n",
       "      <td>1</td>\n",
       "      <td>wuh</td>\n",
       "      <td>2015-05-01 08:13:39Z</td>\n",
       "      <td>2015-05-01 08:00:00Z</td>\n",
       "      <td>2015-05-01 12:00:00Z</td>\n",
       "      <td>目前，8时-12时雷雨，期间进出港航班可能受到影响。</td>\n",
       "    </tr>\n",
       "    <tr>\n",
       "      <td>2</td>\n",
       "      <td>khn</td>\n",
       "      <td>2015-05-01 08:14:18Z</td>\n",
       "      <td>2015-05-01 14:00:00Z</td>\n",
       "      <td>2015-05-01 17:00:00Z</td>\n",
       "      <td>预计，14时-17时小雷雨，期间进出港航班可能受到影响。</td>\n",
       "    </tr>\n",
       "    <tr>\n",
       "      <td>3</td>\n",
       "      <td>swa</td>\n",
       "      <td>2015-05-01 08:24:28Z</td>\n",
       "      <td>2015-05-01 13:00:00Z</td>\n",
       "      <td>2015-05-01 17:00:00Z</td>\n",
       "      <td>预计，13时-17时雷雨，期间进出港航班可能受到影响。</td>\n",
       "    </tr>\n",
       "    <tr>\n",
       "      <td>4</td>\n",
       "      <td>zha</td>\n",
       "      <td>2015-05-01 08:24:56Z</td>\n",
       "      <td>2015-05-01 13:00:00Z</td>\n",
       "      <td>2015-05-01 17:00:00Z</td>\n",
       "      <td>预计，13时-17时雷雨，期间进出港航班可能受到影响。</td>\n",
       "    </tr>\n",
       "  </tbody>\n",
       "</table>\n",
       "</div>"
      ],
      "text/plain": [
       "  特情机场                  收集时间                  开始时间                  结束时间  \\\n",
       "0  csx  2015-04-30 19:52:45Z  2015-05-01 12:00:00Z  2015-05-01 16:00:00Z   \n",
       "1  wuh  2015-05-01 08:13:39Z  2015-05-01 08:00:00Z  2015-05-01 12:00:00Z   \n",
       "2  khn  2015-05-01 08:14:18Z  2015-05-01 14:00:00Z  2015-05-01 17:00:00Z   \n",
       "3  swa  2015-05-01 08:24:28Z  2015-05-01 13:00:00Z  2015-05-01 17:00:00Z   \n",
       "4  zha  2015-05-01 08:24:56Z  2015-05-01 13:00:00Z  2015-05-01 17:00:00Z   \n",
       "\n",
       "                                                特情内容  \n",
       "0  长沙机场航班延误黄色预警提示：预计明日（5月1日）12:00-16:00长沙黄花机场受雷雨天...  \n",
       "1                         目前，8时-12时雷雨，期间进出港航班可能受到影响。  \n",
       "2                       预计，14时-17时小雷雨，期间进出港航班可能受到影响。  \n",
       "3                        预计，13时-17时雷雨，期间进出港航班可能受到影响。  \n",
       "4                        预计，13时-17时雷雨，期间进出港航班可能受到影响。  "
      ]
     },
     "execution_count": 6,
     "metadata": {},
     "output_type": "execute_result"
    }
   ],
   "source": [
    "# 观察特情数据\n",
    "special.head()"
   ]
  },
  {
   "cell_type": "code",
   "execution_count": 7,
   "metadata": {},
   "outputs": [
    {
     "data": {
      "text/html": [
       "<div>\n",
       "<style scoped>\n",
       "    .dataframe tbody tr th:only-of-type {\n",
       "        vertical-align: middle;\n",
       "    }\n",
       "\n",
       "    .dataframe tbody tr th {\n",
       "        vertical-align: top;\n",
       "    }\n",
       "\n",
       "    .dataframe thead th {\n",
       "        text-align: right;\n",
       "    }\n",
       "</style>\n",
       "<table border=\"1\" class=\"dataframe\">\n",
       "  <thead>\n",
       "    <tr style=\"text-align: right;\">\n",
       "      <th></th>\n",
       "      <th>城市</th>\n",
       "      <th>天气</th>\n",
       "      <th>最低气温</th>\n",
       "      <th>最高气温</th>\n",
       "      <th>日期</th>\n",
       "      <th>Unnamed: 5</th>\n",
       "    </tr>\n",
       "  </thead>\n",
       "  <tbody>\n",
       "    <tr>\n",
       "      <td>0</td>\n",
       "      <td>厦门</td>\n",
       "      <td>阴</td>\n",
       "      <td>21</td>\n",
       "      <td>26</td>\n",
       "      <td>2015-05-01</td>\n",
       "      <td>NaN</td>\n",
       "    </tr>\n",
       "    <tr>\n",
       "      <td>1</td>\n",
       "      <td>宁德</td>\n",
       "      <td>阵雨</td>\n",
       "      <td>19</td>\n",
       "      <td>25</td>\n",
       "      <td>2015-05-01</td>\n",
       "      <td>NaN</td>\n",
       "    </tr>\n",
       "    <tr>\n",
       "      <td>2</td>\n",
       "      <td>莆田</td>\n",
       "      <td>阵雨转阴</td>\n",
       "      <td>20</td>\n",
       "      <td>26</td>\n",
       "      <td>2015-05-01</td>\n",
       "      <td>NaN</td>\n",
       "    </tr>\n",
       "    <tr>\n",
       "      <td>3</td>\n",
       "      <td>泉州</td>\n",
       "      <td>阴</td>\n",
       "      <td>22</td>\n",
       "      <td>26</td>\n",
       "      <td>2015-05-01</td>\n",
       "      <td>NaN</td>\n",
       "    </tr>\n",
       "    <tr>\n",
       "      <td>4</td>\n",
       "      <td>漳州</td>\n",
       "      <td>阵雨转阴</td>\n",
       "      <td>22</td>\n",
       "      <td>28</td>\n",
       "      <td>2015-05-01</td>\n",
       "      <td>NaN</td>\n",
       "    </tr>\n",
       "  </tbody>\n",
       "</table>\n",
       "</div>"
      ],
      "text/plain": [
       "   城市    天气 最低气温 最高气温          日期  Unnamed: 5\n",
       "0  厦门     阴   21   26  2015-05-01         NaN\n",
       "1  宁德    阵雨   19   25  2015-05-01         NaN\n",
       "2  莆田  阵雨转阴   20   26  2015-05-01         NaN\n",
       "3  泉州     阴   22   26  2015-05-01         NaN\n",
       "4  漳州  阵雨转阴   22   28  2015-05-01         NaN"
      ]
     },
     "execution_count": 7,
     "metadata": {},
     "output_type": "execute_result"
    }
   ],
   "source": [
    "\n",
    "# 观察天气数据\n",
    "weather.head()"
   ]
  },
  {
   "cell_type": "code",
   "execution_count": 8,
   "metadata": {},
   "outputs": [
    {
     "data": {
      "text/html": [
       "<div>\n",
       "<style scoped>\n",
       "    .dataframe tbody tr th:only-of-type {\n",
       "        vertical-align: middle;\n",
       "    }\n",
       "\n",
       "    .dataframe tbody tr th {\n",
       "        vertical-align: top;\n",
       "    }\n",
       "\n",
       "    .dataframe thead th {\n",
       "        text-align: right;\n",
       "    }\n",
       "</style>\n",
       "<table border=\"1\" class=\"dataframe\">\n",
       "  <thead>\n",
       "    <tr style=\"text-align: right;\">\n",
       "      <th></th>\n",
       "      <th>机场编码</th>\n",
       "      <th>城市名称</th>\n",
       "    </tr>\n",
       "  </thead>\n",
       "  <tbody>\n",
       "    <tr>\n",
       "      <td>0</td>\n",
       "      <td>AHJ</td>\n",
       "      <td>阿坝</td>\n",
       "    </tr>\n",
       "    <tr>\n",
       "      <td>1</td>\n",
       "      <td>AYN</td>\n",
       "      <td>安阳</td>\n",
       "    </tr>\n",
       "    <tr>\n",
       "      <td>2</td>\n",
       "      <td>HSC</td>\n",
       "      <td>韶关</td>\n",
       "    </tr>\n",
       "    <tr>\n",
       "      <td>3</td>\n",
       "      <td>HCJ</td>\n",
       "      <td>河池</td>\n",
       "    </tr>\n",
       "    <tr>\n",
       "      <td>4</td>\n",
       "      <td>XNT</td>\n",
       "      <td>邢台</td>\n",
       "    </tr>\n",
       "  </tbody>\n",
       "</table>\n",
       "</div>"
      ],
      "text/plain": [
       "  机场编码 城市名称\n",
       "0  AHJ   阿坝\n",
       "1  AYN   安阳\n",
       "2  HSC   韶关\n",
       "3  HCJ   河池\n",
       "4  XNT   邢台"
      ]
     },
     "execution_count": 8,
     "metadata": {},
     "output_type": "execute_result"
    }
   ],
   "source": [
    "\n",
    "# 观察城市与机场对应数据\n",
    "airport_city.head()"
   ]
  },
  {
   "cell_type": "code",
   "execution_count": 9,
   "metadata": {},
   "outputs": [],
   "source": [
    "del weather[\"Unnamed: 5\"]"
   ]
  },
  {
   "cell_type": "code",
   "execution_count": 10,
   "metadata": {},
   "outputs": [
    {
     "data": {
      "text/html": [
       "<div>\n",
       "<style scoped>\n",
       "    .dataframe tbody tr th:only-of-type {\n",
       "        vertical-align: middle;\n",
       "    }\n",
       "\n",
       "    .dataframe tbody tr th {\n",
       "        vertical-align: top;\n",
       "    }\n",
       "\n",
       "    .dataframe thead th {\n",
       "        text-align: right;\n",
       "    }\n",
       "</style>\n",
       "<table border=\"1\" class=\"dataframe\">\n",
       "  <thead>\n",
       "    <tr style=\"text-align: right;\">\n",
       "      <th></th>\n",
       "      <th>城市</th>\n",
       "      <th>天气</th>\n",
       "      <th>最低气温</th>\n",
       "      <th>最高气温</th>\n",
       "      <th>日期</th>\n",
       "    </tr>\n",
       "  </thead>\n",
       "  <tbody>\n",
       "    <tr>\n",
       "      <td>0</td>\n",
       "      <td>厦门</td>\n",
       "      <td>阴</td>\n",
       "      <td>21</td>\n",
       "      <td>26</td>\n",
       "      <td>2015-05-01</td>\n",
       "    </tr>\n",
       "    <tr>\n",
       "      <td>1</td>\n",
       "      <td>宁德</td>\n",
       "      <td>阵雨</td>\n",
       "      <td>19</td>\n",
       "      <td>25</td>\n",
       "      <td>2015-05-01</td>\n",
       "    </tr>\n",
       "    <tr>\n",
       "      <td>2</td>\n",
       "      <td>莆田</td>\n",
       "      <td>阵雨转阴</td>\n",
       "      <td>20</td>\n",
       "      <td>26</td>\n",
       "      <td>2015-05-01</td>\n",
       "    </tr>\n",
       "    <tr>\n",
       "      <td>3</td>\n",
       "      <td>泉州</td>\n",
       "      <td>阴</td>\n",
       "      <td>22</td>\n",
       "      <td>26</td>\n",
       "      <td>2015-05-01</td>\n",
       "    </tr>\n",
       "    <tr>\n",
       "      <td>4</td>\n",
       "      <td>漳州</td>\n",
       "      <td>阵雨转阴</td>\n",
       "      <td>22</td>\n",
       "      <td>28</td>\n",
       "      <td>2015-05-01</td>\n",
       "    </tr>\n",
       "  </tbody>\n",
       "</table>\n",
       "</div>"
      ],
      "text/plain": [
       "   城市    天气 最低气温 最高气温          日期\n",
       "0  厦门     阴   21   26  2015-05-01\n",
       "1  宁德    阵雨   19   25  2015-05-01\n",
       "2  莆田  阵雨转阴   20   26  2015-05-01\n",
       "3  泉州     阴   22   26  2015-05-01\n",
       "4  漳州  阵雨转阴   22   28  2015-05-01"
      ]
     },
     "execution_count": 10,
     "metadata": {},
     "output_type": "execute_result"
    }
   ],
   "source": [
    "weather.head()\n"
   ]
  },
  {
   "cell_type": "code",
   "execution_count": 11,
   "metadata": {},
   "outputs": [
    {
     "name": "stdout",
     "output_type": "stream",
     "text": [
      "all flight data: (7518638, 9)\n",
      "all weather data: (828469, 5)\n",
      "all airport_city data: (234, 2)\n",
      "all special data: (15880, 5)\n"
     ]
    }
   ],
   "source": [
    "print(\"all flight data:\", flight_data.shape)\n",
    "print(\"all weather data:\", weather.shape)\n",
    "print(\"all airport_city data:\", airport_city.shape)\n",
    "print(\"all special data:\", special.shape)"
   ]
  },
  {
   "cell_type": "markdown",
   "metadata": {},
   "source": [
    "#### 问题1：我们知道，一个有监督学习问题是总有一个需要预测的目标值，那么在这个问题中，你通过了解此问题的背景以及观察以上的数据，认为此任务中的目标值是什么？在已有的数据中，给出了预测目标值吗？如果没有的话，我们要如何获得这个目标值呢？\n",
    "\n",
    "回答问题：1.预测一个航班的延误情况，没有直接给出。但是可以通过预计起降时间和实际起降时间算出延误的时间。"
   ]
  },
  {
   "cell_type": "markdown",
   "metadata": {},
   "source": [
    "### 整理targets值\n",
    "\n",
    "根据以上对数据的初步观察，我们发现，这样的实际问题的数据是非常不规整的。数据的targets标签并没有显式地给出，而是需要自己整理。在这一小节，我们根据飞行数据 `flight_data` 整理出我们需要的targets。\n",
    "\n",
    "我们首先定义延误时间：实际起飞时间与计划起飞时间的差；然后，我们以延误时长是否超过3小时来定义targets。同时观察到“航班是否取消”这一列数据，针对数据中的“取消”的航班，我们直接可以将其延误时间设置成12小时。\n",
    "\n",
    "**建议**：用[numpy.where](https://numpy.org/devdocs/reference/generated/numpy.where.html?highlight=where#numpy.where)按条件选择延误时间是否超过三小时，如果超过三小时则延误目标值取1，否则延误目标值取0；另外也用[numpy.where](https://numpy.org/devdocs/reference/generated/numpy.where.html?highlight=where#numpy.where)按条件选择`flight_data['航班是否取消']`是否为 `取消`,如果是取消则直接可以将其延误时间设置成12小时。"
   ]
  },
  {
   "cell_type": "code",
   "execution_count": 12,
   "metadata": {
    "pycharm": {
     "name": "#%%\n"
    }
   },
   "outputs": [
    {
     "data": {
      "text/html": [
       "<div>\n",
       "<style scoped>\n",
       "    .dataframe tbody tr th:only-of-type {\n",
       "        vertical-align: middle;\n",
       "    }\n",
       "\n",
       "    .dataframe tbody tr th {\n",
       "        vertical-align: top;\n",
       "    }\n",
       "\n",
       "    .dataframe thead th {\n",
       "        text-align: right;\n",
       "    }\n",
       "</style>\n",
       "<table border=\"1\" class=\"dataframe\">\n",
       "  <thead>\n",
       "    <tr style=\"text-align: right;\">\n",
       "      <th></th>\n",
       "      <th>出发机场</th>\n",
       "      <th>到达机场</th>\n",
       "      <th>航班编号</th>\n",
       "      <th>计划起飞时间</th>\n",
       "      <th>计划到达时间</th>\n",
       "      <th>实际起飞时间</th>\n",
       "      <th>实际到达时间</th>\n",
       "      <th>飞机编号</th>\n",
       "      <th>航班是否取消</th>\n",
       "      <th>起飞延误时间</th>\n",
       "      <th>飞机延误目标</th>\n",
       "    </tr>\n",
       "  </thead>\n",
       "  <tbody>\n",
       "    <tr>\n",
       "      <td>0</td>\n",
       "      <td>HGH</td>\n",
       "      <td>DLC</td>\n",
       "      <td>CZ6328</td>\n",
       "      <td>1453809600</td>\n",
       "      <td>1453817100</td>\n",
       "      <td>1.453813e+09</td>\n",
       "      <td>1.453819e+09</td>\n",
       "      <td>1.0</td>\n",
       "      <td>正常</td>\n",
       "      <td>3480.0</td>\n",
       "      <td>0</td>\n",
       "    </tr>\n",
       "    <tr>\n",
       "      <td>1</td>\n",
       "      <td>SHA</td>\n",
       "      <td>XMN</td>\n",
       "      <td>FM9261</td>\n",
       "      <td>1452760800</td>\n",
       "      <td>1452767100</td>\n",
       "      <td>1.452763e+09</td>\n",
       "      <td>1.452768e+09</td>\n",
       "      <td>2.0</td>\n",
       "      <td>正常</td>\n",
       "      <td>1800.0</td>\n",
       "      <td>0</td>\n",
       "    </tr>\n",
       "    <tr>\n",
       "      <td>2</td>\n",
       "      <td>CAN</td>\n",
       "      <td>WNZ</td>\n",
       "      <td>ZH9597</td>\n",
       "      <td>1453800900</td>\n",
       "      <td>1453807500</td>\n",
       "      <td>1.453802e+09</td>\n",
       "      <td>1.453807e+09</td>\n",
       "      <td>3.0</td>\n",
       "      <td>正常</td>\n",
       "      <td>1440.0</td>\n",
       "      <td>0</td>\n",
       "    </tr>\n",
       "    <tr>\n",
       "      <td>3</td>\n",
       "      <td>SHA</td>\n",
       "      <td>ZUH</td>\n",
       "      <td>9C8819</td>\n",
       "      <td>1452120600</td>\n",
       "      <td>1452131100</td>\n",
       "      <td>1.452121e+09</td>\n",
       "      <td>1.452130e+09</td>\n",
       "      <td>4.0</td>\n",
       "      <td>正常</td>\n",
       "      <td>840.0</td>\n",
       "      <td>0</td>\n",
       "    </tr>\n",
       "    <tr>\n",
       "      <td>4</td>\n",
       "      <td>SHE</td>\n",
       "      <td>TAO</td>\n",
       "      <td>TZ185</td>\n",
       "      <td>1452399000</td>\n",
       "      <td>1452406800</td>\n",
       "      <td>1.452400e+09</td>\n",
       "      <td>1.452404e+09</td>\n",
       "      <td>5.0</td>\n",
       "      <td>正常</td>\n",
       "      <td>900.0</td>\n",
       "      <td>0</td>\n",
       "    </tr>\n",
       "  </tbody>\n",
       "</table>\n",
       "</div>"
      ],
      "text/plain": [
       "  出发机场 到达机场    航班编号      计划起飞时间      计划到达时间        实际起飞时间        实际到达时间  飞机编号  \\\n",
       "0  HGH  DLC  CZ6328  1453809600  1453817100  1.453813e+09  1.453819e+09   1.0   \n",
       "1  SHA  XMN  FM9261  1452760800  1452767100  1.452763e+09  1.452768e+09   2.0   \n",
       "2  CAN  WNZ  ZH9597  1453800900  1453807500  1.453802e+09  1.453807e+09   3.0   \n",
       "3  SHA  ZUH  9C8819  1452120600  1452131100  1.452121e+09  1.452130e+09   4.0   \n",
       "4  SHE  TAO   TZ185  1452399000  1452406800  1.452400e+09  1.452404e+09   5.0   \n",
       "\n",
       "  航班是否取消  起飞延误时间  飞机延误目标  \n",
       "0     正常  3480.0       0  \n",
       "1     正常  1800.0       0  \n",
       "2     正常  1440.0       0  \n",
       "3     正常   840.0       0  \n",
       "4     正常   900.0       0  "
      ]
     },
     "execution_count": 12,
     "metadata": {},
     "output_type": "execute_result"
    }
   ],
   "source": [
    "# TODO：计算 起飞延误时间，以小时为单位，注意将单位秒转换为单位小时\n",
    "flight_data['起飞延误时间'] = np.where(flight_data['航班是否取消'] == \"正常\" ,flight_data['实际起飞时间'] - flight_data['计划起飞时间'], 3600 * 12) \n",
    "\n",
    "\n",
    "# TODO：`flight_data['航班是否取消']是否为 “取消”,如果是取消则直接可以将其延误时间设置成12小时\n",
    "flight_data[\"飞机延误目标\"] = np.where(flight_data['起飞延误时间'] >= 3600 * 6, 1, 0)\n",
    "\n",
    "flight_data.head()"
   ]
  },
  {
   "cell_type": "code",
   "execution_count": 13,
   "metadata": {},
   "outputs": [
    {
     "data": {
      "text/html": [
       "<div>\n",
       "<style scoped>\n",
       "    .dataframe tbody tr th:only-of-type {\n",
       "        vertical-align: middle;\n",
       "    }\n",
       "\n",
       "    .dataframe tbody tr th {\n",
       "        vertical-align: top;\n",
       "    }\n",
       "\n",
       "    .dataframe thead th {\n",
       "        text-align: right;\n",
       "    }\n",
       "</style>\n",
       "<table border=\"1\" class=\"dataframe\">\n",
       "  <thead>\n",
       "    <tr style=\"text-align: right;\">\n",
       "      <th></th>\n",
       "      <th>出发机场</th>\n",
       "      <th>到达机场</th>\n",
       "      <th>航班编号</th>\n",
       "      <th>计划起飞时间</th>\n",
       "      <th>计划到达时间</th>\n",
       "      <th>实际起飞时间</th>\n",
       "      <th>实际到达时间</th>\n",
       "      <th>飞机编号</th>\n",
       "      <th>航班是否取消</th>\n",
       "      <th>起飞延误时间</th>\n",
       "      <th>飞机延误目标</th>\n",
       "    </tr>\n",
       "  </thead>\n",
       "  <tbody>\n",
       "    <tr>\n",
       "      <td>5</td>\n",
       "      <td>DLC</td>\n",
       "      <td>NNG</td>\n",
       "      <td>ZH953Z</td>\n",
       "      <td>1452385800</td>\n",
       "      <td>1452401700</td>\n",
       "      <td>NaN</td>\n",
       "      <td>NaN</td>\n",
       "      <td>6.0</td>\n",
       "      <td>取消</td>\n",
       "      <td>43200.0</td>\n",
       "      <td>1</td>\n",
       "    </tr>\n",
       "    <tr>\n",
       "      <td>6</td>\n",
       "      <td>HGH</td>\n",
       "      <td>SZX</td>\n",
       "      <td>CZ6327</td>\n",
       "      <td>1452591900</td>\n",
       "      <td>1452600900</td>\n",
       "      <td>NaN</td>\n",
       "      <td>NaN</td>\n",
       "      <td>NaN</td>\n",
       "      <td>取消</td>\n",
       "      <td>43200.0</td>\n",
       "      <td>1</td>\n",
       "    </tr>\n",
       "    <tr>\n",
       "      <td>55</td>\n",
       "      <td>HAK</td>\n",
       "      <td>SZX</td>\n",
       "      <td>HU7013</td>\n",
       "      <td>1452032700</td>\n",
       "      <td>1452037500</td>\n",
       "      <td>NaN</td>\n",
       "      <td>NaN</td>\n",
       "      <td>55.0</td>\n",
       "      <td>取消</td>\n",
       "      <td>43200.0</td>\n",
       "      <td>1</td>\n",
       "    </tr>\n",
       "    <tr>\n",
       "      <td>78</td>\n",
       "      <td>WUX</td>\n",
       "      <td>SZX</td>\n",
       "      <td>MF1094</td>\n",
       "      <td>1452855300</td>\n",
       "      <td>1452864900</td>\n",
       "      <td>NaN</td>\n",
       "      <td>NaN</td>\n",
       "      <td>NaN</td>\n",
       "      <td>取消</td>\n",
       "      <td>43200.0</td>\n",
       "      <td>1</td>\n",
       "    </tr>\n",
       "    <tr>\n",
       "      <td>98</td>\n",
       "      <td>CAN</td>\n",
       "      <td>URC</td>\n",
       "      <td>CZ6884</td>\n",
       "      <td>1453976100</td>\n",
       "      <td>1453996200</td>\n",
       "      <td>NaN</td>\n",
       "      <td>NaN</td>\n",
       "      <td>NaN</td>\n",
       "      <td>取消</td>\n",
       "      <td>43200.0</td>\n",
       "      <td>1</td>\n",
       "    </tr>\n",
       "    <tr>\n",
       "      <td>...</td>\n",
       "      <td>...</td>\n",
       "      <td>...</td>\n",
       "      <td>...</td>\n",
       "      <td>...</td>\n",
       "      <td>...</td>\n",
       "      <td>...</td>\n",
       "      <td>...</td>\n",
       "      <td>...</td>\n",
       "      <td>...</td>\n",
       "      <td>...</td>\n",
       "      <td>...</td>\n",
       "    </tr>\n",
       "    <tr>\n",
       "      <td>7518555</td>\n",
       "      <td>TYN</td>\n",
       "      <td>TVS</td>\n",
       "      <td>3U8785</td>\n",
       "      <td>1430535000</td>\n",
       "      <td>1430539200</td>\n",
       "      <td>NaN</td>\n",
       "      <td>NaN</td>\n",
       "      <td>NaN</td>\n",
       "      <td>取消</td>\n",
       "      <td>43200.0</td>\n",
       "      <td>1</td>\n",
       "    </tr>\n",
       "    <tr>\n",
       "      <td>7518582</td>\n",
       "      <td>CTU</td>\n",
       "      <td>PEK</td>\n",
       "      <td>3U8891</td>\n",
       "      <td>1432722600</td>\n",
       "      <td>1432733700</td>\n",
       "      <td>NaN</td>\n",
       "      <td>NaN</td>\n",
       "      <td>NaN</td>\n",
       "      <td>取消</td>\n",
       "      <td>43200.0</td>\n",
       "      <td>1</td>\n",
       "    </tr>\n",
       "    <tr>\n",
       "      <td>7518603</td>\n",
       "      <td>HFE</td>\n",
       "      <td>TXN</td>\n",
       "      <td>JR1551</td>\n",
       "      <td>1432284900</td>\n",
       "      <td>1432288500</td>\n",
       "      <td>NaN</td>\n",
       "      <td>NaN</td>\n",
       "      <td>NaN</td>\n",
       "      <td>取消</td>\n",
       "      <td>43200.0</td>\n",
       "      <td>1</td>\n",
       "    </tr>\n",
       "    <tr>\n",
       "      <td>7518610</td>\n",
       "      <td>YIH</td>\n",
       "      <td>SZX</td>\n",
       "      <td>ZH9948</td>\n",
       "      <td>1432130100</td>\n",
       "      <td>1432136400</td>\n",
       "      <td>NaN</td>\n",
       "      <td>NaN</td>\n",
       "      <td>1580.0</td>\n",
       "      <td>取消</td>\n",
       "      <td>43200.0</td>\n",
       "      <td>1</td>\n",
       "    </tr>\n",
       "    <tr>\n",
       "      <td>7518635</td>\n",
       "      <td>HFE</td>\n",
       "      <td>CGO</td>\n",
       "      <td>JR1552</td>\n",
       "      <td>1431930000</td>\n",
       "      <td>1431935100</td>\n",
       "      <td>NaN</td>\n",
       "      <td>NaN</td>\n",
       "      <td>NaN</td>\n",
       "      <td>取消</td>\n",
       "      <td>43200.0</td>\n",
       "      <td>1</td>\n",
       "    </tr>\n",
       "  </tbody>\n",
       "</table>\n",
       "<p>323353 rows × 11 columns</p>\n",
       "</div>"
      ],
      "text/plain": [
       "        出发机场 到达机场    航班编号      计划起飞时间      计划到达时间  实际起飞时间  实际到达时间    飞机编号  \\\n",
       "5        DLC  NNG  ZH953Z  1452385800  1452401700     NaN     NaN     6.0   \n",
       "6        HGH  SZX  CZ6327  1452591900  1452600900     NaN     NaN     NaN   \n",
       "55       HAK  SZX  HU7013  1452032700  1452037500     NaN     NaN    55.0   \n",
       "78       WUX  SZX  MF1094  1452855300  1452864900     NaN     NaN     NaN   \n",
       "98       CAN  URC  CZ6884  1453976100  1453996200     NaN     NaN     NaN   \n",
       "...      ...  ...     ...         ...         ...     ...     ...     ...   \n",
       "7518555  TYN  TVS  3U8785  1430535000  1430539200     NaN     NaN     NaN   \n",
       "7518582  CTU  PEK  3U8891  1432722600  1432733700     NaN     NaN     NaN   \n",
       "7518603  HFE  TXN  JR1551  1432284900  1432288500     NaN     NaN     NaN   \n",
       "7518610  YIH  SZX  ZH9948  1432130100  1432136400     NaN     NaN  1580.0   \n",
       "7518635  HFE  CGO  JR1552  1431930000  1431935100     NaN     NaN     NaN   \n",
       "\n",
       "        航班是否取消   起飞延误时间  飞机延误目标  \n",
       "5           取消  43200.0       1  \n",
       "6           取消  43200.0       1  \n",
       "55          取消  43200.0       1  \n",
       "78          取消  43200.0       1  \n",
       "98          取消  43200.0       1  \n",
       "...        ...      ...     ...  \n",
       "7518555     取消  43200.0       1  \n",
       "7518582     取消  43200.0       1  \n",
       "7518603     取消  43200.0       1  \n",
       "7518610     取消  43200.0       1  \n",
       "7518635     取消  43200.0       1  \n",
       "\n",
       "[323353 rows x 11 columns]"
      ]
     },
     "execution_count": 13,
     "metadata": {},
     "output_type": "execute_result"
    }
   ],
   "source": [
    "flight_data[flight_data[\"航班是否取消\"] == \"取消\"]"
   ]
  },
  {
   "cell_type": "markdown",
   "metadata": {
    "pycharm": {
     "name": "#%% md\n"
    }
   },
   "source": [
    "### 整理简单features\n",
    "\n",
    "在课程中，所讲解的案例使用的是比较干净的数据集，然而在真实业务场景里，却很少有直接可用的数据，我们往往需要从复杂的数据中提取重要的特征来帮助我们解决实际问题。正如当前所做的项目，我们无法直接使用所有数据，而是需要进行数据归并、删选、提取重要的特征。\n",
    "\n",
    "在整理完我们的目标值之后，我们可以开始进行特征工程。根据以上的几个文件，我们可以得到很多特征，在这里，我们先抽取一个简单的特征，学习一遍在处理实际数据时的特征工程流程。\n",
    "\n",
    "我们所抽取的特征是 `weather`中的“天气”数据。但我们发现 `weather` 中的数据并不是直接可用的，而是需要我们将该天气数据按照日期和城市对齐至飞行数据`flight_data`中。具体来说，我们参考下面的图片![merge_data](./figure/merge_feature.png)\n",
    "\n",
    "- 我们先要将天气 `weather`中的“城市”一列的数据，通过机场城市`airport_city`数据中的“城市名称”和“城市编码”，将 `weather`中的“城市”转化为“城市编码”，这样才能跟`flight_data`中的机场编码对应上。\n",
    "- 然后我们要将 `weather`中的“日期”一列的数据对齐至`flight_data`中“计划起飞时间”上。但是，我们发现“计划起飞时间”是以秒为单位的浮点格式数据，因此我们还需要将“计划起飞时间”转换成和`weather`中的“日期”一样的时间格式。\n",
    "\n",
    "接下来就是按以上的步骤进行操作"
   ]
  },
  {
   "cell_type": "markdown",
   "metadata": {},
   "source": [
    "首先，利用 [merge](https://pandas.pydata.org/pandas-docs/stable/reference/api/pandas.DataFrame.merge.html) ，按`airport_city`中的城市名称和城市编码，将 `weather`中的城市名称转化为城市编码。"
   ]
  },
  {
   "cell_type": "code",
   "execution_count": 14,
   "metadata": {
    "pycharm": {
     "name": "#%%\n"
    }
   },
   "outputs": [
    {
     "data": {
      "text/html": [
       "<div>\n",
       "<style scoped>\n",
       "    .dataframe tbody tr th:only-of-type {\n",
       "        vertical-align: middle;\n",
       "    }\n",
       "\n",
       "    .dataframe tbody tr th {\n",
       "        vertical-align: top;\n",
       "    }\n",
       "\n",
       "    .dataframe thead th {\n",
       "        text-align: right;\n",
       "    }\n",
       "</style>\n",
       "<table border=\"1\" class=\"dataframe\">\n",
       "  <thead>\n",
       "    <tr style=\"text-align: right;\">\n",
       "      <th></th>\n",
       "      <th>机场编码</th>\n",
       "      <th>城市名称</th>\n",
       "      <th>城市</th>\n",
       "      <th>天气</th>\n",
       "      <th>最低气温</th>\n",
       "      <th>最高气温</th>\n",
       "      <th>日期</th>\n",
       "    </tr>\n",
       "  </thead>\n",
       "  <tbody>\n",
       "    <tr>\n",
       "      <td>0</td>\n",
       "      <td>AHJ</td>\n",
       "      <td>阿坝</td>\n",
       "      <td>阿坝</td>\n",
       "      <td>多云转晴</td>\n",
       "      <td>-1</td>\n",
       "      <td>16</td>\n",
       "      <td>2015-05-01</td>\n",
       "    </tr>\n",
       "    <tr>\n",
       "      <td>1</td>\n",
       "      <td>AHJ</td>\n",
       "      <td>阿坝</td>\n",
       "      <td>阿坝</td>\n",
       "      <td>小雨</td>\n",
       "      <td>2</td>\n",
       "      <td>18</td>\n",
       "      <td>2015-05-02</td>\n",
       "    </tr>\n",
       "    <tr>\n",
       "      <td>2</td>\n",
       "      <td>AHJ</td>\n",
       "      <td>阿坝</td>\n",
       "      <td>阿坝</td>\n",
       "      <td>小雨</td>\n",
       "      <td>4</td>\n",
       "      <td>11</td>\n",
       "      <td>2015-05-03</td>\n",
       "    </tr>\n",
       "    <tr>\n",
       "      <td>3</td>\n",
       "      <td>AHJ</td>\n",
       "      <td>阿坝</td>\n",
       "      <td>阿坝</td>\n",
       "      <td>阴转小雨</td>\n",
       "      <td>2</td>\n",
       "      <td>11</td>\n",
       "      <td>2015-05-04</td>\n",
       "    </tr>\n",
       "    <tr>\n",
       "      <td>4</td>\n",
       "      <td>AHJ</td>\n",
       "      <td>阿坝</td>\n",
       "      <td>阿坝</td>\n",
       "      <td>小雨转晴</td>\n",
       "      <td>1</td>\n",
       "      <td>13</td>\n",
       "      <td>2015-05-05</td>\n",
       "    </tr>\n",
       "  </tbody>\n",
       "</table>\n",
       "</div>"
      ],
      "text/plain": [
       "  机场编码 城市名称  城市    天气 最低气温 最高气温          日期\n",
       "0  AHJ   阿坝  阿坝  多云转晴   -1   16  2015-05-01\n",
       "1  AHJ   阿坝  阿坝    小雨    2   18  2015-05-02\n",
       "2  AHJ   阿坝  阿坝    小雨    4   11  2015-05-03\n",
       "3  AHJ   阿坝  阿坝  阴转小雨    2   11  2015-05-04\n",
       "4  AHJ   阿坝  阿坝  小雨转晴    1   13  2015-05-05"
      ]
     },
     "execution_count": 14,
     "metadata": {},
     "output_type": "execute_result"
    }
   ],
   "source": [
    "# TODO: 将机场编码对应到天气数据上面，根据城市名，注意 weather 数据是【城市】，而 airport_city 是【城市名称】\n",
    "airport_weather = airport_city.merge(weather,left_on='城市名称', right_on='城市')\n",
    "\n",
    "# # 去除缺失值和重复的机场天气信息\n",
    "airport_weather = airport_weather.dropna()\n",
    "airport_weather = airport_weather.drop_duplicates(['日期','机场编码','城市'])\n",
    "airport_weather.head()"
   ]
  },
  {
   "cell_type": "markdown",
   "metadata": {
    "pycharm": {
     "name": "#%% md\n"
    }
   },
   "source": [
    "我们发现，数据`airport_weather`中的“日期”格式和`flight_data`中的“计划起飞时间”格式是不一致的，为了能够将机场天气数据`airport_weather`按照“日期”归并至飞行数据`flight_data`中，我们首先需要将`flight_data`中的“计划起飞时间”格式转化成年月日统一格式。可以先用[to_datetime](https://pandas.pydata.org/pandas-docs/stable/reference/api/pandas.to_datetime.html)将浮点类型的数据转化为日期格式，然后再将日期格式的数据转化为 统一的 年月日格式。"
   ]
  },
  {
   "cell_type": "code",
   "execution_count": 17,
   "metadata": {
    "pycharm": {
     "name": "#%%\n"
    }
   },
   "outputs": [
    {
     "data": {
      "text/html": [
       "<div>\n",
       "<style scoped>\n",
       "    .dataframe tbody tr th:only-of-type {\n",
       "        vertical-align: middle;\n",
       "    }\n",
       "\n",
       "    .dataframe tbody tr th {\n",
       "        vertical-align: top;\n",
       "    }\n",
       "\n",
       "    .dataframe thead th {\n",
       "        text-align: right;\n",
       "    }\n",
       "</style>\n",
       "<table border=\"1\" class=\"dataframe\">\n",
       "  <thead>\n",
       "    <tr style=\"text-align: right;\">\n",
       "      <th></th>\n",
       "      <th>出发机场</th>\n",
       "      <th>到达机场</th>\n",
       "      <th>航班编号</th>\n",
       "      <th>计划起飞时间</th>\n",
       "      <th>计划到达时间</th>\n",
       "      <th>实际起飞时间</th>\n",
       "      <th>实际到达时间</th>\n",
       "      <th>飞机编号</th>\n",
       "      <th>航班是否取消</th>\n",
       "      <th>起飞延误时间</th>\n",
       "      <th>飞机延误目标</th>\n",
       "      <th>计划起飞日期tmp</th>\n",
       "      <th>计划起飞日期</th>\n",
       "      <th>机场编码</th>\n",
       "      <th>城市名称</th>\n",
       "      <th>城市</th>\n",
       "      <th>天气</th>\n",
       "      <th>最低气温</th>\n",
       "      <th>最高气温</th>\n",
       "      <th>日期</th>\n",
       "    </tr>\n",
       "  </thead>\n",
       "  <tbody>\n",
       "    <tr>\n",
       "      <td>0</td>\n",
       "      <td>HGH</td>\n",
       "      <td>DLC</td>\n",
       "      <td>CZ6328</td>\n",
       "      <td>1453809600</td>\n",
       "      <td>1453817100</td>\n",
       "      <td>1.453813e+09</td>\n",
       "      <td>1.453819e+09</td>\n",
       "      <td>1.0</td>\n",
       "      <td>正常</td>\n",
       "      <td>3480.0</td>\n",
       "      <td>0</td>\n",
       "      <td>2016-01-26 12:00:00</td>\n",
       "      <td>2016-01-26</td>\n",
       "      <td>HGH</td>\n",
       "      <td>杭州</td>\n",
       "      <td>杭州</td>\n",
       "      <td>晴转阴</td>\n",
       "      <td>1</td>\n",
       "      <td>7</td>\n",
       "      <td>2016-01-26</td>\n",
       "    </tr>\n",
       "    <tr>\n",
       "      <td>1</td>\n",
       "      <td>HGH</td>\n",
       "      <td>BFJ</td>\n",
       "      <td>GJ8823</td>\n",
       "      <td>1453848600</td>\n",
       "      <td>1453858800</td>\n",
       "      <td>1.453850e+09</td>\n",
       "      <td>1.453860e+09</td>\n",
       "      <td>33.0</td>\n",
       "      <td>正常</td>\n",
       "      <td>900.0</td>\n",
       "      <td>0</td>\n",
       "      <td>2016-01-26 22:50:00</td>\n",
       "      <td>2016-01-26</td>\n",
       "      <td>HGH</td>\n",
       "      <td>杭州</td>\n",
       "      <td>杭州</td>\n",
       "      <td>晴转阴</td>\n",
       "      <td>1</td>\n",
       "      <td>7</td>\n",
       "      <td>2016-01-26</td>\n",
       "    </tr>\n",
       "    <tr>\n",
       "      <td>2</td>\n",
       "      <td>HGH</td>\n",
       "      <td>GYS</td>\n",
       "      <td>CA1773</td>\n",
       "      <td>1453767600</td>\n",
       "      <td>1453777800</td>\n",
       "      <td>1.453768e+09</td>\n",
       "      <td>1.453778e+09</td>\n",
       "      <td>1528.0</td>\n",
       "      <td>正常</td>\n",
       "      <td>660.0</td>\n",
       "      <td>0</td>\n",
       "      <td>2016-01-26 00:20:00</td>\n",
       "      <td>2016-01-26</td>\n",
       "      <td>HGH</td>\n",
       "      <td>杭州</td>\n",
       "      <td>杭州</td>\n",
       "      <td>晴转阴</td>\n",
       "      <td>1</td>\n",
       "      <td>7</td>\n",
       "      <td>2016-01-26</td>\n",
       "    </tr>\n",
       "    <tr>\n",
       "      <td>3</td>\n",
       "      <td>HGH</td>\n",
       "      <td>HRB</td>\n",
       "      <td>CZ6665</td>\n",
       "      <td>1453780800</td>\n",
       "      <td>1453791900</td>\n",
       "      <td>1.453781e+09</td>\n",
       "      <td>1.453792e+09</td>\n",
       "      <td>1185.0</td>\n",
       "      <td>正常</td>\n",
       "      <td>-60.0</td>\n",
       "      <td>0</td>\n",
       "      <td>2016-01-26 04:00:00</td>\n",
       "      <td>2016-01-26</td>\n",
       "      <td>HGH</td>\n",
       "      <td>杭州</td>\n",
       "      <td>杭州</td>\n",
       "      <td>晴转阴</td>\n",
       "      <td>1</td>\n",
       "      <td>7</td>\n",
       "      <td>2016-01-26</td>\n",
       "    </tr>\n",
       "    <tr>\n",
       "      <td>4</td>\n",
       "      <td>HGH</td>\n",
       "      <td>SHE</td>\n",
       "      <td>CZ3909</td>\n",
       "      <td>1453784700</td>\n",
       "      <td>1453794300</td>\n",
       "      <td>1.453785e+09</td>\n",
       "      <td>1.453794e+09</td>\n",
       "      <td>433.0</td>\n",
       "      <td>正常</td>\n",
       "      <td>600.0</td>\n",
       "      <td>0</td>\n",
       "      <td>2016-01-26 05:05:00</td>\n",
       "      <td>2016-01-26</td>\n",
       "      <td>HGH</td>\n",
       "      <td>杭州</td>\n",
       "      <td>杭州</td>\n",
       "      <td>晴转阴</td>\n",
       "      <td>1</td>\n",
       "      <td>7</td>\n",
       "      <td>2016-01-26</td>\n",
       "    </tr>\n",
       "  </tbody>\n",
       "</table>\n",
       "</div>"
      ],
      "text/plain": [
       "  出发机场 到达机场    航班编号      计划起飞时间      计划到达时间        实际起飞时间        实际到达时间  \\\n",
       "0  HGH  DLC  CZ6328  1453809600  1453817100  1.453813e+09  1.453819e+09   \n",
       "1  HGH  BFJ  GJ8823  1453848600  1453858800  1.453850e+09  1.453860e+09   \n",
       "2  HGH  GYS  CA1773  1453767600  1453777800  1.453768e+09  1.453778e+09   \n",
       "3  HGH  HRB  CZ6665  1453780800  1453791900  1.453781e+09  1.453792e+09   \n",
       "4  HGH  SHE  CZ3909  1453784700  1453794300  1.453785e+09  1.453794e+09   \n",
       "\n",
       "     飞机编号 航班是否取消  起飞延误时间  飞机延误目标           计划起飞日期tmp      计划起飞日期 机场编码 城市名称  \\\n",
       "0     1.0     正常  3480.0       0 2016-01-26 12:00:00  2016-01-26  HGH   杭州   \n",
       "1    33.0     正常   900.0       0 2016-01-26 22:50:00  2016-01-26  HGH   杭州   \n",
       "2  1528.0     正常   660.0       0 2016-01-26 00:20:00  2016-01-26  HGH   杭州   \n",
       "3  1185.0     正常   -60.0       0 2016-01-26 04:00:00  2016-01-26  HGH   杭州   \n",
       "4   433.0     正常   600.0       0 2016-01-26 05:05:00  2016-01-26  HGH   杭州   \n",
       "\n",
       "   城市   天气 最低气温 最高气温          日期  \n",
       "0  杭州  晴转阴    1    7  2016-01-26  \n",
       "1  杭州  晴转阴    1    7  2016-01-26  \n",
       "2  杭州  晴转阴    1    7  2016-01-26  \n",
       "3  杭州  晴转阴    1    7  2016-01-26  \n",
       "4  杭州  晴转阴    1    7  2016-01-26  "
      ]
     },
     "execution_count": 17,
     "metadata": {},
     "output_type": "execute_result"
    }
   ],
   "source": [
    "# TODO：利用 to_datetime  浮点类型的数据转化为时间数据，单位为秒，utc时间为True\n",
    "flight_data['计划起飞日期tmp'] = pd.to_datetime(flight_data['计划起飞时间'], unit='s')\n",
    "\n",
    "# 再将日期格式的数据转化为 统一的 年月日格式。\n",
    "flight_data['计划起飞日期'] = flight_data['计划起飞日期tmp'].apply(lambda x:x.strftime('%Y-%m-%d') if not(pd.isnull(x)) else None)\n",
    "flight_data.head()"
   ]
  },
  {
   "cell_type": "markdown",
   "metadata": {
    "pycharm": {
     "name": "#%% md\n"
    }
   },
   "source": [
    "然后，再次利用[merge](https://pandas.pydata.org/pandas-docs/stable/reference/api/pandas.DataFrame.merge.html)，根据机场名称和日期信息，将机场天气`weather`数据对应到飞行数据 `flight_data` 中。注意，`flight_data`中是“出发机场”和“计划起飞日期”,而 `airport_weather`中对应的是“机场编码”和“日期”。"
   ]
  },
  {
   "cell_type": "code",
   "execution_count": 21,
   "metadata": {
    "pycharm": {
     "name": "#%%\n"
    }
   },
   "outputs": [
    {
     "data": {
      "text/html": [
       "<div>\n",
       "<style scoped>\n",
       "    .dataframe tbody tr th:only-of-type {\n",
       "        vertical-align: middle;\n",
       "    }\n",
       "\n",
       "    .dataframe tbody tr th {\n",
       "        vertical-align: top;\n",
       "    }\n",
       "\n",
       "    .dataframe thead th {\n",
       "        text-align: right;\n",
       "    }\n",
       "</style>\n",
       "<table border=\"1\" class=\"dataframe\">\n",
       "  <thead>\n",
       "    <tr style=\"text-align: right;\">\n",
       "      <th></th>\n",
       "      <th>出发机场</th>\n",
       "      <th>到达机场</th>\n",
       "      <th>航班编号</th>\n",
       "      <th>计划起飞时间</th>\n",
       "      <th>计划到达时间</th>\n",
       "      <th>实际起飞时间</th>\n",
       "      <th>实际到达时间</th>\n",
       "      <th>飞机编号</th>\n",
       "      <th>航班是否取消</th>\n",
       "      <th>起飞延误时间</th>\n",
       "      <th>...</th>\n",
       "      <th>最低气温_y</th>\n",
       "      <th>最高气温_y</th>\n",
       "      <th>日期_y</th>\n",
       "      <th>机场编码</th>\n",
       "      <th>城市名称</th>\n",
       "      <th>城市</th>\n",
       "      <th>天气</th>\n",
       "      <th>最低气温</th>\n",
       "      <th>最高气温</th>\n",
       "      <th>日期</th>\n",
       "    </tr>\n",
       "  </thead>\n",
       "  <tbody>\n",
       "    <tr>\n",
       "      <td>0</td>\n",
       "      <td>HGH</td>\n",
       "      <td>DLC</td>\n",
       "      <td>CZ6328</td>\n",
       "      <td>1453809600</td>\n",
       "      <td>1453817100</td>\n",
       "      <td>1.453813e+09</td>\n",
       "      <td>1.453819e+09</td>\n",
       "      <td>1.0</td>\n",
       "      <td>正常</td>\n",
       "      <td>3480.0</td>\n",
       "      <td>...</td>\n",
       "      <td>1</td>\n",
       "      <td>7</td>\n",
       "      <td>2016-01-26</td>\n",
       "      <td>HGH</td>\n",
       "      <td>杭州</td>\n",
       "      <td>杭州</td>\n",
       "      <td>晴转阴</td>\n",
       "      <td>1</td>\n",
       "      <td>7</td>\n",
       "      <td>2016-01-26</td>\n",
       "    </tr>\n",
       "    <tr>\n",
       "      <td>1</td>\n",
       "      <td>HGH</td>\n",
       "      <td>BFJ</td>\n",
       "      <td>GJ8823</td>\n",
       "      <td>1453848600</td>\n",
       "      <td>1453858800</td>\n",
       "      <td>1.453850e+09</td>\n",
       "      <td>1.453860e+09</td>\n",
       "      <td>33.0</td>\n",
       "      <td>正常</td>\n",
       "      <td>900.0</td>\n",
       "      <td>...</td>\n",
       "      <td>1</td>\n",
       "      <td>7</td>\n",
       "      <td>2016-01-26</td>\n",
       "      <td>HGH</td>\n",
       "      <td>杭州</td>\n",
       "      <td>杭州</td>\n",
       "      <td>晴转阴</td>\n",
       "      <td>1</td>\n",
       "      <td>7</td>\n",
       "      <td>2016-01-26</td>\n",
       "    </tr>\n",
       "    <tr>\n",
       "      <td>2</td>\n",
       "      <td>HGH</td>\n",
       "      <td>GYS</td>\n",
       "      <td>CA1773</td>\n",
       "      <td>1453767600</td>\n",
       "      <td>1453777800</td>\n",
       "      <td>1.453768e+09</td>\n",
       "      <td>1.453778e+09</td>\n",
       "      <td>1528.0</td>\n",
       "      <td>正常</td>\n",
       "      <td>660.0</td>\n",
       "      <td>...</td>\n",
       "      <td>1</td>\n",
       "      <td>7</td>\n",
       "      <td>2016-01-26</td>\n",
       "      <td>HGH</td>\n",
       "      <td>杭州</td>\n",
       "      <td>杭州</td>\n",
       "      <td>晴转阴</td>\n",
       "      <td>1</td>\n",
       "      <td>7</td>\n",
       "      <td>2016-01-26</td>\n",
       "    </tr>\n",
       "    <tr>\n",
       "      <td>3</td>\n",
       "      <td>HGH</td>\n",
       "      <td>HRB</td>\n",
       "      <td>CZ6665</td>\n",
       "      <td>1453780800</td>\n",
       "      <td>1453791900</td>\n",
       "      <td>1.453781e+09</td>\n",
       "      <td>1.453792e+09</td>\n",
       "      <td>1185.0</td>\n",
       "      <td>正常</td>\n",
       "      <td>-60.0</td>\n",
       "      <td>...</td>\n",
       "      <td>1</td>\n",
       "      <td>7</td>\n",
       "      <td>2016-01-26</td>\n",
       "      <td>HGH</td>\n",
       "      <td>杭州</td>\n",
       "      <td>杭州</td>\n",
       "      <td>晴转阴</td>\n",
       "      <td>1</td>\n",
       "      <td>7</td>\n",
       "      <td>2016-01-26</td>\n",
       "    </tr>\n",
       "    <tr>\n",
       "      <td>4</td>\n",
       "      <td>HGH</td>\n",
       "      <td>SHE</td>\n",
       "      <td>CZ3909</td>\n",
       "      <td>1453784700</td>\n",
       "      <td>1453794300</td>\n",
       "      <td>1.453785e+09</td>\n",
       "      <td>1.453794e+09</td>\n",
       "      <td>433.0</td>\n",
       "      <td>正常</td>\n",
       "      <td>600.0</td>\n",
       "      <td>...</td>\n",
       "      <td>1</td>\n",
       "      <td>7</td>\n",
       "      <td>2016-01-26</td>\n",
       "      <td>HGH</td>\n",
       "      <td>杭州</td>\n",
       "      <td>杭州</td>\n",
       "      <td>晴转阴</td>\n",
       "      <td>1</td>\n",
       "      <td>7</td>\n",
       "      <td>2016-01-26</td>\n",
       "    </tr>\n",
       "  </tbody>\n",
       "</table>\n",
       "<p>5 rows × 34 columns</p>\n",
       "</div>"
      ],
      "text/plain": [
       "  出发机场 到达机场    航班编号      计划起飞时间      计划到达时间        实际起飞时间        实际到达时间  \\\n",
       "0  HGH  DLC  CZ6328  1453809600  1453817100  1.453813e+09  1.453819e+09   \n",
       "1  HGH  BFJ  GJ8823  1453848600  1453858800  1.453850e+09  1.453860e+09   \n",
       "2  HGH  GYS  CA1773  1453767600  1453777800  1.453768e+09  1.453778e+09   \n",
       "3  HGH  HRB  CZ6665  1453780800  1453791900  1.453781e+09  1.453792e+09   \n",
       "4  HGH  SHE  CZ3909  1453784700  1453794300  1.453785e+09  1.453794e+09   \n",
       "\n",
       "     飞机编号 航班是否取消  起飞延误时间  ...  最低气温_y 最高气温_y        日期_y 机场编码 城市名称  城市   天气  \\\n",
       "0     1.0     正常  3480.0  ...       1      7  2016-01-26  HGH   杭州  杭州  晴转阴   \n",
       "1    33.0     正常   900.0  ...       1      7  2016-01-26  HGH   杭州  杭州  晴转阴   \n",
       "2  1528.0     正常   660.0  ...       1      7  2016-01-26  HGH   杭州  杭州  晴转阴   \n",
       "3  1185.0     正常   -60.0  ...       1      7  2016-01-26  HGH   杭州  杭州  晴转阴   \n",
       "4   433.0     正常   600.0  ...       1      7  2016-01-26  HGH   杭州  杭州  晴转阴   \n",
       "\n",
       "  最低气温 最高气温          日期  \n",
       "0    1    7  2016-01-26  \n",
       "1    1    7  2016-01-26  \n",
       "2    1    7  2016-01-26  \n",
       "3    1    7  2016-01-26  \n",
       "4    1    7  2016-01-26  \n",
       "\n",
       "[5 rows x 34 columns]"
      ]
     },
     "execution_count": 21,
     "metadata": {},
     "output_type": "execute_result"
    }
   ],
   "source": [
    "# TODO: merge flight_data 和 airport_weather\n",
    "flight_data = flight_data.merge(airport_weather,left_on=['出发机场', '计划起飞日期'], right_on=['机场编码', '日期'])\n",
    "flight_data.head()"
   ]
  },
  {
   "cell_type": "markdown",
   "metadata": {
    "pycharm": {
     "name": "#%% md\n"
    }
   },
   "source": [
    "## 建立简单模型\n",
    "\n",
    "### 特征处理\n",
    "我们可以先建立一个最简单的模型，从飞行数据`flight_data`中挑选2列数据作为features，其中一个是我们刚刚构造好的“天气”数据，另外一个feature由你来选择。注意，其中“飞机延误时间”和“飞机延误目标”并不是feature，而是targets，所以不能选择这两列作为features。\n",
    "\n",
    "#### 问题2：你选择的特征是特征是什么？说说你选择这个feature的理由。\n",
    "\n",
    "回答问题：飞机编号, 天气可能会影响某种型号的飞机。"
   ]
  },
  {
   "cell_type": "code",
   "execution_count": 22,
   "metadata": {
    "pycharm": {
     "name": "#%%\n"
    }
   },
   "outputs": [
    {
     "data": {
      "text/html": [
       "<div>\n",
       "<style scoped>\n",
       "    .dataframe tbody tr th:only-of-type {\n",
       "        vertical-align: middle;\n",
       "    }\n",
       "\n",
       "    .dataframe tbody tr th {\n",
       "        vertical-align: top;\n",
       "    }\n",
       "\n",
       "    .dataframe thead th {\n",
       "        text-align: right;\n",
       "    }\n",
       "</style>\n",
       "<table border=\"1\" class=\"dataframe\">\n",
       "  <thead>\n",
       "    <tr style=\"text-align: right;\">\n",
       "      <th></th>\n",
       "      <th>天气</th>\n",
       "      <th>飞机编号</th>\n",
       "    </tr>\n",
       "  </thead>\n",
       "  <tbody>\n",
       "    <tr>\n",
       "      <td>0</td>\n",
       "      <td>晴转阴</td>\n",
       "      <td>1.0</td>\n",
       "    </tr>\n",
       "    <tr>\n",
       "      <td>1</td>\n",
       "      <td>晴转阴</td>\n",
       "      <td>33.0</td>\n",
       "    </tr>\n",
       "    <tr>\n",
       "      <td>2</td>\n",
       "      <td>晴转阴</td>\n",
       "      <td>1528.0</td>\n",
       "    </tr>\n",
       "    <tr>\n",
       "      <td>3</td>\n",
       "      <td>晴转阴</td>\n",
       "      <td>1185.0</td>\n",
       "    </tr>\n",
       "    <tr>\n",
       "      <td>4</td>\n",
       "      <td>晴转阴</td>\n",
       "      <td>433.0</td>\n",
       "    </tr>\n",
       "  </tbody>\n",
       "</table>\n",
       "</div>"
      ],
      "text/plain": [
       "    天气    飞机编号\n",
       "0  晴转阴     1.0\n",
       "1  晴转阴    33.0\n",
       "2  晴转阴  1528.0\n",
       "3  晴转阴  1185.0\n",
       "4  晴转阴   433.0"
      ]
     },
     "execution_count": 22,
     "metadata": {},
     "output_type": "execute_result"
    }
   ],
   "source": [
    "# TODO: 选择一列数据作为feature\n",
    "features = [\"天气\"]\n",
    "add_to_feature =  \"飞机编号\" # 你选择的feature\n",
    "features.append(add_to_feature)\n",
    "data = flight_data[features]\n",
    "\n",
    "data.head()\n"
   ]
  },
  {
   "cell_type": "code",
   "execution_count": 23,
   "metadata": {},
   "outputs": [],
   "source": [
    "# TODO：从 flight_data 中取出目标\"飞机延误目标\"的值，numpy格式的值\n",
    "targets = flight_data['飞机延误目标'].values\n",
    "\n",
    "# train_data 的数据量和 targets 的数据量一定是相等的\n",
    "assert len(data) == len(targets)"
   ]
  },
  {
   "cell_type": "markdown",
   "metadata": {
    "pycharm": {
     "name": "#%% md\n"
    }
   },
   "source": [
    "到这里，我们已经提取完并得到两个特征，但是现在的特征是非数值类型的，那么我们需要先对这些非数值类型的特征进行编码。\n",
    "\n",
    "从上面的**数据探索**中的表中，我们可以看到有几个属性的每一条记录都是非数字的。通常情况下，学习算法期望输入是数字的，这要求非数字的特征（称为类别变量）被转换。转换类别变量的一种流行的方法是使用**独热编码**方案。独热编码为每一个非数字特征的每一个可能的类别创建一个_“虚拟”_变量。例如，假设`someFeature`有三个可能的取值`A`，`B`或者`C`，。我们将把这个特征编码成`someFeature_A`, `someFeature_B`和`someFeature_C`.\n",
    "\n",
    "| 特征X |                    | 特征X_A | 特征X_B | 特征X_C |\n",
    "| :-: |                            | :-: | :-: | :-: |\n",
    "|  B  |  | 0 | 1 | 0 |\n",
    "|  C  | ----> 独热编码 ----> | 0 | 0 | 1 |\n",
    "|  A  |  | 1 | 0 | 0 |\n",
    "\n",
    "因此，**独热编码**将会对特征进行扩维，例如上面对例子，将对单个特征`someFeature` 扩充成3个特征`someFeature_A`, `someFeature_B`和`someFeature_C`，这种独热编码，你可以参考one-hot[get_dummies](https://pandas.pydata.org/pandas-docs/stable/reference/api/pandas.get_dummies.html) 解释和实现以及使用。\n",
    "\n",
    "另一种对非数值类型对特征进行编码对方法是直接对字符编号，例如 `someFeature` 由 1.0、2.0、3.0 来作为特征值进入模型对计算。更进一步来说，这种方法如果类型比较多对话，将会导致特征空间太离散，影响模型对建模性能。于是我们需要对这些数值进行归一化，针对该问题，在我们实际业务场景中经常使用对解决方案是使用的编码方式是 [sklearn.preprocessing.LabelEncoder.fit_transform](https://scikit-learn.org/stable/modules/generated/sklearn.preprocessing.LabelEncoder.html#sklearn.preprocessing.LabelEncoder.fit_transform)，它会将离散的字符映射到一个数值，用以表示该特征并参与模型计算。\n",
    "\n",
    "\n",
    "#### 问题3：请参考文档简单介绍一下 `LabelEncoder.fit_transform`，说一下该方法和独热表示one-hot[get_dummies](https://pandas.pydata.org/pandas-docs/stable/reference/api/pandas.get_dummies.html)有什么区别，并根据刚刚构造好对`天气`特征包含对类别数量等统计信息来回答这里为什么用 `fit_transform`？\n",
    "\n",
    "回答问题：\n",
    "1.区别:one-hot算法会对特征进行扩纬,所以会增加437个feature,而LabelEncoder则在一个feature中将天气映射为437个离散数值。\n",
    "2.之所以不使用one-hot,因为one-hot算法会对特征进行扩纬,我们的数据有437种不同的天气分类,如果使用one-hot 我们的特征会变成439种,这严重增大了模型的复杂度。并且会使得模型专注于学习天气相关的信息,造成模型的过度拟合,所以使用LabelEncoder."
   ]
  },
  {
   "cell_type": "code",
   "execution_count": 24,
   "metadata": {
    "pycharm": {
     "name": "#%%\n"
    }
   },
   "outputs": [],
   "source": [
    "#all_weather = set(weather[\"天气\"].values)\n",
    "#print(len(all_weather))\n",
    "#from sklearn.preprocessing import LabelEncoder\n",
    "#lb_model = LabelEncoder().fit(list(all_weather))\n",
    "#lb_model\n",
    "#data[\"天气_num\"]= lb_model.transform(data[\"天气\"])"
   ]
  },
  {
   "cell_type": "markdown",
   "metadata": {
    "pycharm": {
     "name": "#%% md\n"
    }
   },
   "source": [
    "判断数据中是否存在缺省值的情况，如果存在，请处理缺省值。\n",
    "\n",
    "建议，你可以通过 `any(isnull())`[isnull](https://pandas.pydata.org/pandas-docs/stable/reference/api/pandas.isnull.html)去判断数据中是否存在缺失情况；然后通过[fillna](https://pandas.pydata.org/pandas-docs/stable/reference/api/pandas.DataFrame.fillna.html)去填补缺省值"
   ]
  },
  {
   "cell_type": "code",
   "execution_count": 25,
   "metadata": {
    "pycharm": {
     "name": "#%%\n"
    }
   },
   "outputs": [
    {
     "data": {
      "text/html": [
       "<div>\n",
       "<style scoped>\n",
       "    .dataframe tbody tr th:only-of-type {\n",
       "        vertical-align: middle;\n",
       "    }\n",
       "\n",
       "    .dataframe tbody tr th {\n",
       "        vertical-align: top;\n",
       "    }\n",
       "\n",
       "    .dataframe thead th {\n",
       "        text-align: right;\n",
       "    }\n",
       "</style>\n",
       "<table border=\"1\" class=\"dataframe\">\n",
       "  <thead>\n",
       "    <tr style=\"text-align: right;\">\n",
       "      <th></th>\n",
       "      <th>天气</th>\n",
       "      <th>飞机编号</th>\n",
       "    </tr>\n",
       "  </thead>\n",
       "  <tbody>\n",
       "  </tbody>\n",
       "</table>\n",
       "</div>"
      ],
      "text/plain": [
       "Empty DataFrame\n",
       "Columns: [天气, 飞机编号]\n",
       "Index: []"
      ]
     },
     "execution_count": 25,
     "metadata": {},
     "output_type": "execute_result"
    }
   ],
   "source": [
    "# TODO：判断并处理`data`中的缺省值\n",
    "data[pd.isnull(data[\"天气\"])==True]\n",
    "data=data.fillna(0)\n",
    "data[pd.isnull(data[\"飞机编号\"])==True]\n",
    "\n",
    "#del data[\"天气\"]\n",
    "#data.head()"
   ]
  },
  {
   "cell_type": "code",
   "execution_count": 26,
   "metadata": {},
   "outputs": [],
   "source": [
    "from sklearn import preprocessing\n",
    "string_encoder = preprocessing.LabelEncoder()\n",
    "# 我们首先对天气特征的进行编码\n",
    "data[\"天气\"] = string_encoder.fit_transform(data[\"天气\"])\n",
    "\n",
    "# TODO：对你选择的特征进行编码，如果你选择的是数值类型的特征，那么你可以按照前面所学知识进行归一化等处理\n",
    "#data[add_to_feature] = string_encoder.fit_transform(data[\"航班编号\"])"
   ]
  },
  {
   "cell_type": "code",
   "execution_count": 27,
   "metadata": {
    "pycharm": {
     "name": "#%%\n"
    }
   },
   "outputs": [],
   "source": [
    "from sklearn import preprocessing\n",
    "data=preprocessing.scale(data)\n",
    "\n"
   ]
  },
  {
   "cell_type": "code",
   "execution_count": 28,
   "metadata": {},
   "outputs": [
    {
     "data": {
      "text/plain": [
       "array([[ 0.43848407, -1.55841155],\n",
       "       [ 0.43848407, -1.5184795 ],\n",
       "       [ 0.43848407,  0.34709563],\n",
       "       ...,\n",
       "       [-1.09044375, -1.31632354],\n",
       "       [ 0.27583217, -1.01433746],\n",
       "       [ 1.41439544, -0.91949886]])"
      ]
     },
     "execution_count": 28,
     "metadata": {},
     "output_type": "execute_result"
    }
   ],
   "source": [
    "data"
   ]
  },
  {
   "cell_type": "markdown",
   "metadata": {
    "pycharm": {
     "name": "#%% md\n"
    }
   },
   "source": [
    "### 模型构建\n",
    "\n",
    "现在我们可以根据上面构造好的feature和target来构建一个简单的模型。\n",
    "\n",
    "- 第一步：使用`sklearn.model_selection.train_test_split`按**0.2**的测试比例切分训练集和测试集；\n",
    "- 第二步：继续使用`sklearn.model_selection.train_test_split`按**0.2**的测试比例切分训练集和测试集；\n"
   ]
  },
  {
   "cell_type": "code",
   "execution_count": 29,
   "metadata": {
    "pycharm": {
     "name": "#%%\n"
    }
   },
   "outputs": [
    {
     "name": "stdout",
     "output_type": "stream",
     "text": [
      "Training set has 4733699 samples.\n",
      "Validation set has 1183425 samples.\n",
      "Testing set has 1479282 samples.\n"
     ]
    }
   ],
   "source": [
    "# 导入 train_test_split\n",
    "from sklearn.model_selection import train_test_split\n",
    "\n",
    "# 将'data'和'targets'数据切分成训练集和测试集\n",
    "X_train, X_test, y_train, y_test = train_test_split(data, targets, test_size = 0.2, random_state = 0)\n",
    "\n",
    "# 将'X_train'和'y_train'进一步切分为训练集和验证集\n",
    "X_train, X_val, y_train, y_val = train_test_split(X_train, y_train, test_size=0.2, random_state=0)\n",
    "\n",
    "# 显示切分的结果\n",
    "print (\"Training set has {} samples.\".format(X_train.shape[0]))\n",
    "print (\"Validation set has {} samples.\".format(X_val.shape[0]))\n",
    "print (\"Testing set has {} samples.\".format(X_test.shape[0]))"
   ]
  },
  {
   "cell_type": "markdown",
   "metadata": {
    "pycharm": {
     "name": "#%% md\n"
    }
   },
   "source": [
    "### 监督学习模型\n",
    "### 模型应用\n",
    "\n",
    "你能够在 [`scikit-learn`](http://scikit-learn.org/stable/supervised_learning.html) 中选择以下监督学习模型\n",
    "- 高斯朴素贝叶斯 (GaussianNB)\n",
    "- 决策树 (DecisionTree)\n",
    "- 集成方法 (Bagging, AdaBoost, Random Forest, Gradient Boosting)\n",
    "- K近邻 (K Nearest Neighbors)\n",
    "- 随机梯度下降分类器 (SGDC)\n",
    "- 支撑向量机 (SVM)\n",
    "- Logistic回归（LogisticRegression）\n",
    "\n",
    "\n",
    "\n",
    "#### 问题4: 从上面的监督学习模型中选择两个适合我们这个问题的模型，并回答相应问题。然后从中选择一个先在我们等数据集上进行训练和测试，这一步是为了初步感受模型在此数据集上等表现。"
   ]
  },
  {
   "cell_type": "markdown",
   "metadata": {
    "pycharm": {
     "name": "#%% md\n"
    }
   },
   "source": [
    "#### 模型1 \n",
    "\n",
    "**模型名称** \n",
    "\n",
    "回答：决策树\n",
    "\n",
    "\n",
    "**描述一个该模型在真实世界的一个应用场景。（你需要为此做点研究，并给出你的引用出处）**\n",
    "\n",
    "回答：推荐系统, 维基百科\n",
    "\n",
    "**这个模型的优势是什么？他什么情况下表现最好？**\n",
    "\n",
    "回答：分类精确。\n",
    "\n",
    "**这个模型的缺点是什么？什么条件下它表现很差？**\n",
    "\n",
    "回答：容易受离群的极端点影响。数据存在很多噪声或者误差点的情况表现差。\n",
    "\n",
    "**根据我们当前数据集的特点，为什么这个模型适合这个问题。**\n",
    "\n",
    "回答：单一决策树可能会存在深度过大过度拟合问题,AdaBoost可以通过组合不同的层数较浅的决策树解决过度拟合的问题。"
   ]
  },
  {
   "cell_type": "markdown",
   "metadata": {},
   "source": [
    "#### 模型2\n",
    "\n",
    "**模型名称**\n",
    "\n",
    "回答：Random Forest\n",
    "\n",
    "\n",
    "**描述一个该模型在真实世界的一个应用场景。（你需要为此做点研究，并给出你的引用出处）**\n",
    "\n",
    "回答：信用卡欺诈(统计学习方法)。\n",
    "\n",
    "**这个模型的优势是什么？他什么情况下表现最好？**\n",
    "\n",
    "回答：训练速度比较快,特征较多的时候表现最好\n",
    "\n",
    "**这个模型的缺点是什么？什么条件下它表现很差？**\n",
    "\n",
    "回答：有很多噪声数据的时候\n",
    "\n",
    "**根据我们当前数据集的特点，为什么这个模型适合这个问题。**\n",
    "\n",
    "回答：因为数据量大 选取训练速度快的模型"
   ]
  },
  {
   "cell_type": "code",
   "execution_count": null,
   "metadata": {
    "pycharm": {
     "name": "#%%\n"
    }
   },
   "outputs": [],
   "source": []
  },
  {
   "cell_type": "markdown",
   "metadata": {
    "pycharm": {
     "name": "#%% md\n"
    }
   },
   "source": [
    "### 评价模型性能\n",
    "在这一部分中，我们选择上面两个模型之一来训练。\n",
    "\n",
    "在这个，分类预测问题中，我们使用**准确率**作为评价模型等标准，同时能够使用**F-beta score**作为评价指标，这样能够同时考虑查准率和查全率：\n",
    "\n",
    "$$ F_{\\beta} = (1 + \\beta^2) \\cdot \\frac{precision \\cdot recall}{\\left( \\beta^2 \\cdot precision \\right) + recall} $$\n",
    "\n",
    "\n",
    "尤其是，当 $\\beta = 0.5$ 的时候更多的强调查准率，这叫做**F$_{0.5}$ score** （或者为了简单叫做F-score）。\n",
    "\n",
    "\n",
    "由于数据量比较大，模型训练可能需要一些时间来运行！"
   ]
  },
  {
   "cell_type": "code",
   "execution_count": 30,
   "metadata": {
    "pycharm": {
     "name": "#%%\n"
    }
   },
   "outputs": [
    {
     "name": "stderr",
     "output_type": "stream",
     "text": [
      "/Users/tristan/anaconda3/lib/python3.7/site-packages/sklearn/ensemble/forest.py:245: FutureWarning: The default value of n_estimators will change from 10 in version 0.20 to 100 in 0.22.\n",
      "  \"10 in version 0.20 to 100 in 0.22.\", FutureWarning)\n"
     ]
    }
   ],
   "source": [
    "\"\"\"# TODO：从sklearn中导入两个评价指标 - fbeta_score和accuracy_score\n",
    "from sklearn.metrics import recall_score, precision_score, fbeta_score ,accuracy_score\n",
    "\n",
    "# TODO：从sklearn中导入上面你选择等一个监督学习模型\n",
    "\n",
    "from sklearn.ensemble import AdaBoostClassifier\n",
    "\n",
    "# TODO：设置模型参数，初始化这个模型\n",
    "model = AdaBoostClassifier(n_estimators=100)\n",
    "# TODO：在训练集 X_train, y_train 上训练该模型\n",
    "model.fit(X_train,y_train)\n",
    "# TODO：在验证集 X_val, y_val 上预测并计算socre fbeta_score和accuracy_score\n",
    "\"\"\"\n",
    "\n",
    "from sklearn.ensemble import RandomForestClassifier\n",
    "clf = RandomForestClassifier(max_depth=2, random_state=0)\n",
    "clf.fit(X_train,y_train)\n",
    "y_predict = clf.predict(X_val)\n",
    "\n",
    "# 打印 fbeta_score和accuracy_score\n",
    "#f_score = fbeta_score(y_val,y_predict,beta=1)\n",
    "#acc = accuracy_score(y_val,y_predict)\n",
    "#print(\"Train and valid successed. F-score: {}, Acc: {}\".format(f_score, acc))\n",
    "#print(\"Train and valid successed. Recall-score: {}, Precision: {}\".format(recall_score(y_val,y_predict), precision_score(y_val,y_predict)))\n"
   ]
  },
  {
   "cell_type": "code",
   "execution_count": 33,
   "metadata": {},
   "outputs": [
    {
     "name": "stdout",
     "output_type": "stream",
     "text": [
      "Train and valid successed. F-score: 0.5942551647060179, Acc: 0.9702431501785073\n",
      "Train and valid successed. Recall-score: 0.452786459247814, Precision: 0.8642960083118276\n"
     ]
    }
   ],
   "source": [
    "from sklearn.metrics import recall_score, precision_score, fbeta_score ,accuracy_score\n",
    "f_score = fbeta_score(y_val,y_predict,beta=1)\n",
    "acc = accuracy_score(y_val,y_predict)\n",
    "print(\"Train and valid successed. F-score: {}, Acc: {}\".format(f_score, acc))\n",
    "print(\"Train and valid successed. Recall-score: {}, Precision: {}\".format(recall_score(y_val,y_predict), precision_score(y_val,y_predict)))\n"
   ]
  },
  {
   "cell_type": "code",
   "execution_count": 34,
   "metadata": {
    "pycharm": {
     "name": "#%%\n"
    }
   },
   "outputs": [
    {
     "data": {
      "text/plain": [
       "'\\nfrom sklearn.naive_bayes import GaussianNB\\n# TODO：设置模型参数，初始化这个模型\\nclf = GaussianNB()\\n# TODO：在训练集 X_train, y_train 上训练该模型\\nclf.fit(X_train,y_train)\\n# TODO：在验证集 X_val, y_val 上预测并计算socre fbeta_score和accuracy_score\\ny_predict = clf.predict(X_val)\\nfrom sklearn.metrics import recall_score, precision_score, fbeta_score ,accuracy_score\\nf_score = fbeta_score(y_val,y_predict,beta=1)\\nacc = accuracy_score(y_val,y_predict)\\nprint(\"Train and valid successed. F-score: {}, Acc: {}\".format(f_score, acc))\\nprint(\"Train and valid successed. Recall-score: {}, Precision: {}\".format(recall_score(y_val,y_predict), precision_score(y_val,y_predict)))\\n'"
      ]
     },
     "execution_count": 34,
     "metadata": {},
     "output_type": "execute_result"
    }
   ],
   "source": [
    "\"\"\"\n",
    "from sklearn.naive_bayes import GaussianNB\n",
    "# TODO：设置模型参数，初始化这个模型\n",
    "clf = GaussianNB()\n",
    "# TODO：在训练集 X_train, y_train 上训练该模型\n",
    "clf.fit(X_train,y_train)\n",
    "# TODO：在验证集 X_val, y_val 上预测并计算socre fbeta_score和accuracy_score\n",
    "y_predict = clf.predict(X_val)\n",
    "from sklearn.metrics import recall_score, precision_score, fbeta_score ,accuracy_score\n",
    "f_score = fbeta_score(y_val,y_predict,beta=1)\n",
    "acc = accuracy_score(y_val,y_predict)\n",
    "print(\"Train and valid successed. F-score: {}, Acc: {}\".format(f_score, acc))\n",
    "print(\"Train and valid successed. Recall-score: {}, Precision: {}\".format(recall_score(y_val,y_predict), precision_score(y_val,y_predict)))\n",
    "\"\"\""
   ]
  },
  {
   "cell_type": "code",
   "execution_count": 35,
   "metadata": {},
   "outputs": [
    {
     "data": {
      "text/plain": [
       "'\\nfrom sklearn.metrics import recall_score, precision_score, fbeta_score ,accuracy_score\\nf_score = fbeta_score(y_val,y_predict,beta=1)\\nacc = accuracy_score(y_val,y_predict)\\nprint(\"Train and valid successed. F-score: {}, Acc: {}\".format(f_score, acc))\\nprint(\"Train and valid successed. Recall-score: {}, Precision: {}\".format(recall_score(y_val,y_predict), precision_score(y_val,y_predict)))\\n'"
      ]
     },
     "execution_count": 35,
     "metadata": {},
     "output_type": "execute_result"
    }
   ],
   "source": [
    "\"\"\"\n",
    "from sklearn.metrics import recall_score, precision_score, fbeta_score ,accuracy_score\n",
    "f_score = fbeta_score(y_val,y_predict,beta=1)\n",
    "acc = accuracy_score(y_val,y_predict)\n",
    "print(\"Train and valid successed. F-score: {}, Acc: {}\".format(f_score, acc))\n",
    "print(\"Train and valid successed. Recall-score: {}, Precision: {}\".format(recall_score(y_val,y_predict), precision_score(y_val,y_predict)))\n",
    "\"\"\""
   ]
  },
  {
   "cell_type": "markdown",
   "metadata": {
    "pycharm": {
     "name": "#%% md\n"
    }
   },
   "source": [
    "#### 问题5： 用通俗的话解释模型\n",
    "\n",
    "*用一到两段话，用外行也听得懂的话来解释最终模型是如何工作的。你需要解释所选模型的主要特点。例如，这个模型是怎样被训练的，它又是如何做出预测的。避免使用高级的数学或技术术语，不要使用公式或特定的算法名词。*\n",
    "\n",
    "回答问题：\n",
    "1.提升方法就是把很多分类能力很弱的分类器一起来使用，没个负责自己擅长的部分。\n",
    "2.朴素贝叶斯就是统计某些值出现的次数，如果他们在某种条件下出现的次数比较高,那么当出现这些条件时是条件所对应情况的概率就比较大。"
   ]
  },
  {
   "cell_type": "markdown",
   "metadata": {},
   "source": [
    "### 练习：模型调优\n",
    "调节选择的模型的参数。使用网格搜索（GridSearchCV）来至少调整模型的重要参数（至少调整一个），这个参数至少需尝试3个不同的值。你要使用整个训练集来完成这个过程。在接下来的代码单元中，你需要实现以下功能：\n",
    "\n",
    "- 导入[`sklearn.model_selection.GridSearchCV`](http://scikit-learn.org/stable/modules/generated/sklearn.model_selection.GridSearchCV.html) 和 [`sklearn.metrics.make_scorer`](http://scikit-learn.org/stable/modules/generated/sklearn.metrics.make_scorer.html).\n",
    "- 初始化你选择的分类器，并将其存储在`clf`中。\n",
    " - 设置`random_state` (如果有这个参数)。\n",
    "- 创建一个对于这个模型你希望调整参数的字典。\n",
    " - 例如: parameters = {'parameter' : [list of values]}。\n",
    " - **注意：** 如果你的学习器有 `max_features` 参数，请不要调节它！\n",
    "- 使用`make_scorer`来创建一个`fbeta_score`评分对象（设置$\\beta = 0.5$）。\n",
    "- 在分类器clf上用'scorer'作为评价函数运行网格搜索，并将结果存储在grid_obj中。\n",
    "- 用训练集（X_train, y_train）训练grid search object,并将结果存储在`grid_fit`中。\n",
    "\n",
    "**注意：** 取决于你选择的参数列表，下面实现的代码可能需要花一些时间运行！"
   ]
  },
  {
   "cell_type": "code",
   "execution_count": 36,
   "metadata": {
    "pycharm": {
     "name": "#%%\n"
    }
   },
   "outputs": [
    {
     "name": "stderr",
     "output_type": "stream",
     "text": [
      "/Users/tristan/anaconda3/lib/python3.7/site-packages/sklearn/model_selection/_split.py:1978: FutureWarning: The default value of cv will change from 3 to 5 in version 0.22. Specify it explicitly to silence this warning.\n",
      "  warnings.warn(CV_WARNING, FutureWarning)\n",
      "/Users/tristan/anaconda3/lib/python3.7/site-packages/sklearn/ensemble/forest.py:245: FutureWarning: The default value of n_estimators will change from 10 in version 0.20 to 100 in 0.22.\n",
      "  \"10 in version 0.20 to 100 in 0.22.\", FutureWarning)\n",
      "/Users/tristan/anaconda3/lib/python3.7/site-packages/sklearn/ensemble/forest.py:245: FutureWarning: The default value of n_estimators will change from 10 in version 0.20 to 100 in 0.22.\n",
      "  \"10 in version 0.20 to 100 in 0.22.\", FutureWarning)\n",
      "/Users/tristan/anaconda3/lib/python3.7/site-packages/sklearn/ensemble/forest.py:245: FutureWarning: The default value of n_estimators will change from 10 in version 0.20 to 100 in 0.22.\n",
      "  \"10 in version 0.20 to 100 in 0.22.\", FutureWarning)\n",
      "/Users/tristan/anaconda3/lib/python3.7/site-packages/sklearn/ensemble/forest.py:245: FutureWarning: The default value of n_estimators will change from 10 in version 0.20 to 100 in 0.22.\n",
      "  \"10 in version 0.20 to 100 in 0.22.\", FutureWarning)\n",
      "/Users/tristan/anaconda3/lib/python3.7/site-packages/sklearn/ensemble/forest.py:245: FutureWarning: The default value of n_estimators will change from 10 in version 0.20 to 100 in 0.22.\n",
      "  \"10 in version 0.20 to 100 in 0.22.\", FutureWarning)\n",
      "/Users/tristan/anaconda3/lib/python3.7/site-packages/sklearn/ensemble/forest.py:245: FutureWarning: The default value of n_estimators will change from 10 in version 0.20 to 100 in 0.22.\n",
      "  \"10 in version 0.20 to 100 in 0.22.\", FutureWarning)\n",
      "/Users/tristan/anaconda3/lib/python3.7/site-packages/sklearn/ensemble/forest.py:245: FutureWarning: The default value of n_estimators will change from 10 in version 0.20 to 100 in 0.22.\n",
      "  \"10 in version 0.20 to 100 in 0.22.\", FutureWarning)\n",
      "/Users/tristan/anaconda3/lib/python3.7/site-packages/sklearn/ensemble/forest.py:245: FutureWarning: The default value of n_estimators will change from 10 in version 0.20 to 100 in 0.22.\n",
      "  \"10 in version 0.20 to 100 in 0.22.\", FutureWarning)\n",
      "/Users/tristan/anaconda3/lib/python3.7/site-packages/sklearn/ensemble/forest.py:245: FutureWarning: The default value of n_estimators will change from 10 in version 0.20 to 100 in 0.22.\n",
      "  \"10 in version 0.20 to 100 in 0.22.\", FutureWarning)\n",
      "/Users/tristan/anaconda3/lib/python3.7/site-packages/sklearn/ensemble/forest.py:245: FutureWarning: The default value of n_estimators will change from 10 in version 0.20 to 100 in 0.22.\n",
      "  \"10 in version 0.20 to 100 in 0.22.\", FutureWarning)\n",
      "/Users/tristan/anaconda3/lib/python3.7/site-packages/sklearn/ensemble/forest.py:245: FutureWarning: The default value of n_estimators will change from 10 in version 0.20 to 100 in 0.22.\n",
      "  \"10 in version 0.20 to 100 in 0.22.\", FutureWarning)\n"
     ]
    }
   ],
   "source": [
    "# TODO：导入'GridSearchCV', 'make_scorer'和其他一些需要的库\n",
    "from sklearn.model_selection import GridSearchCV\n",
    "from sklearn.ensemble import RandomForestClassifier\n",
    "\n",
    "from sklearn.metrics import make_scorer\n",
    "\n",
    "# TODO：初始化分类器\n",
    "clf = RandomForestClassifier()\n",
    "\n",
    "# TODO：创建你希望调节的参数列表\n",
    "parameters = {\"max_depth\": [2,5,11]}\n",
    "\n",
    "# TODO：创建一个fbeta_score打分对象\n",
    "scorer = make_scorer(fbeta_score,beta=3)\n",
    "\n",
    "# TODO：在分类器上使用网格搜索，使用'scorer'作为评价函数\n",
    "grid_obj = GridSearchCV(clf,parameters,scorer).fit(X_train, y_train)\n",
    "\n",
    "# TODO：用训练数据拟合网格搜索对象并找到最佳参数\n",
    "\n",
    "# 得到estimator\n",
    "best_clf = grid_obj.best_estimator_\n",
    "\n",
    "# 使用没有调优的模型做预测\n",
    "predictions = (clf.fit(X_train, y_train)).predict(X_val)\n",
    "best_predictions = best_clf.predict(X_val)\n"
   ]
  },
  {
   "cell_type": "code",
   "execution_count": 37,
   "metadata": {
    "pycharm": {
     "name": "#%%\n"
    }
   },
   "outputs": [
    {
     "name": "stdout",
     "output_type": "stream",
     "text": [
      "------predictions\n",
      "Train and valid successed. F-score: 0.5921744251947504, Acc: 0.9689891628113315\n",
      "Train and valid successed. Recall-score: 0.452786459247814, Precision: 0.8642960083118276\n",
      "------best predictions\n",
      "Train and valid successed. F-score: 0.595259201270967, Acc: 0.9702921604664427\n",
      "Train and valid successed. Recall-score: 0.452786459247814, Precision: 0.8642960083118276\n"
     ]
    }
   ],
   "source": [
    "print(\"------predictions\")\n",
    "f_score = fbeta_score(y_val,predictions,beta=1)\n",
    "acc = accuracy_score(y_val,predictions)\n",
    "print(\"Train and valid successed. F-score: {}, Acc: {}\".format(f_score, acc))\n",
    "print(\"Train and valid successed. Recall-score: {}, Precision: {}\".format(recall_score(y_val,y_predict), precision_score(y_val,y_predict)))\n",
    "print(\"------best predictions\")\n",
    "\n",
    "f_score = fbeta_score(y_val,best_predictions,beta=1)\n",
    "acc = accuracy_score(y_val,best_predictions)\n",
    "print(\"Train and valid successed. F-score: {}, Acc: {}\".format(f_score, acc))\n",
    "print(\"Train and valid successed. Recall-score: {}, Precision: {}\".format(recall_score(y_val,y_predict), precision_score(y_val,y_predict)))"
   ]
  },
  {
   "cell_type": "markdown",
   "metadata": {
    "pycharm": {
     "name": "#%% md\n"
    }
   },
   "source": [
    "### 特征重要性分析\n",
    "在做数据分析过程中，我们需要分析抽取出来的特征对预测的贡献，以得出特征的重要性。特征重要性分析能够帮助我们继续进行相关的特征工程，比如过滤一些没有贡献的特征，加强一些比较重要的特征。\n",
    "\n",
    "\n",
    "选择一个`scikit-learn`中有`feature_importance_`属性的监督学习分类器，这个属性是一个在做预测的时候根据所选择的算法来对特征重要性进行排序的功能。\n",
    "\n",
    "在下面的代码单元中，你将要实现以下功能：\n",
    " - 如果这个模型和你前面使用的三个模型不一样的话从sklearn中导入一个监督学习模型。\n",
    " - 在整个训练集上训练一个监督学习模型。\n",
    " - 使用模型中的 `'feature_importances_'`提取特征的重要性。"
   ]
  },
  {
   "cell_type": "code",
   "execution_count": 38,
   "metadata": {
    "pycharm": {
     "name": "#%%\n"
    }
   },
   "outputs": [
    {
     "name": "stderr",
     "output_type": "stream",
     "text": [
      "/Users/tristan/anaconda3/lib/python3.7/site-packages/sklearn/ensemble/forest.py:245: FutureWarning: The default value of n_estimators will change from 10 in version 0.20 to 100 in 0.22.\n",
      "  \"10 in version 0.20 to 100 in 0.22.\", FutureWarning)\n"
     ]
    },
    {
     "data": {
      "image/png": "[encoded data removed]",
      "text/plain": [
       "<Figure size 864x576 with 1 Axes>"
      ]
     },
     "metadata": {
      "needs_background": "light"
     },
     "output_type": "display_data"
    }
   ],
   "source": [
    "# TODO：导入一个有'feature_importances_'的监督学习模型\n",
    "\n",
    "# TODO：在训练集上训练一个监督学习模型，初始化\n",
    "model = RandomForestClassifier(max_depth=2)\n",
    "X_train, X_test, y_train, y_test = train_test_split(data, targets, test_size = 0.2, random_state = 0)\n",
    "\n",
    "# TODO: fit 训练集\n",
    "model.fit(X_train,y_train)\n",
    "\n",
    "\n",
    "import matplotlib.pyplot as plt\n",
    "features = [\"weather\", \"your feature\"]\n",
    "\n",
    "feature_important = model.feature_importances_\n",
    "plt.figure(figsize=(12,8))\n",
    "plt.bar(np.arange(len(features)),feature_important)\n",
    "plt.xticks(np.arange(len(features)),features,fontsize=12,rotation=10)\n",
    "plt.show()\n"
   ]
  },
  {
   "cell_type": "markdown",
   "metadata": {
    "pycharm": {
     "name": "#%% md\n"
    }
   },
   "source": [
    "#### 问题6：哪一个特征更加重要？这符合你的直觉吗？谈谈你在平时的项目中在做特征工程时，对于使用符合直觉的特征的看法，可以举例说明。\n",
    "\n",
    "回答问题：飞机的编号更重要, 符合我的直觉。 可以用常识去解释的特征,比如飞机的编号 肯定越先进的飞机越不容易延误。"
   ]
  },
  {
   "cell_type": "markdown",
   "metadata": {
    "pycharm": {
     "name": "#%% md\n"
    }
   },
   "source": [
    "## 模型对比\n",
    "\n",
    "目前为止，我们已经对一个实际问题的复杂的数据进行了处理，并抽取了一两个特征，然后进行了模型训练。你可以按照这个流程做更多的特征工程的工作。由于数据量大，我们已经做好了特征工程，同时我们也sample了部分数据，方便接下来对不同模型进行比较。\n",
    "\n",
    "这一小节，我们要学习在具体业务场景经常使用的模型，梯度提升决策树 （Gradient Boosting Decison Tree，GBDT）。GBDT在工业场景和各大数据挖掘比赛中都是非常流行的模型，在这里，我们尝试对这些流行对模型进行初探。"
   ]
  },
  {
   "cell_type": "markdown",
   "metadata": {},
   "source": [
    "#### 问题7：通俗的解释什么是 梯度提升决策树 （Gradient Boosting Decison Tree，GBDT）？并列举其优缺点。\n",
    "\n",
    "回答问题："
   ]
  },
  {
   "cell_type": "markdown",
   "metadata": {
    "pycharm": {
     "name": "#%% md\n"
    }
   },
   "source": [
    "#### 问题8：目前比较流行的 `GBDT`的变种有 [Xgboost](https://xgboost.readthedocs.io/en/latest/) 和 [LightGBM](https://lightgbm.readthedocs.io/en/latest/)，请比较这三个梯度提升模型，列举他们各自的特点? （你可以参考一些文档，并给出你的引用出处）\n",
    "\n",
    "回答问题："
   ]
  },
  {
   "cell_type": "markdown",
   "metadata": {
    "pycharm": {
     "name": "#%% md\n"
    }
   },
   "source": [
    "我们已经预先对该数据做了充分的特征工程，然后 `sample` 出了部分数据。数据在路径 `./data/`下面，有训练集`train.csv`和测试集`test.csv`"
   ]
  },
  {
   "cell_type": "code",
   "execution_count": null,
   "metadata": {
    "pycharm": {
     "name": "#%%\n"
    }
   },
   "outputs": [],
   "source": [
    "# 直接运行读取数据，并分别得到 X 和 Y 的数据\n",
    "\n",
    "# 处理训练集\n",
    "train_x = pd.read_csv(\"./data/train.csv\")\n",
    "train_y = train_x[\"飞机延误目标\"].values\n",
    "del(train_x[\"飞机延误目标\"])\n",
    "# 处理测试集\n",
    "test_x = pd.read_csv(\"./data/test.csv\")\n",
    "test_y = test_x[\"飞机延误目标\"].values\n",
    "del(test_x[\"飞机延误目标\"])"
   ]
  },
  {
   "cell_type": "markdown",
   "metadata": {
    "pycharm": {
     "name": "#%% md\n"
    }
   },
   "source": [
    "### 对 gbdt 进行调参\n",
    "\n",
    "按照上面简单模型构建部分的流程，先定义一个梯度提升决策树分类器 GradientBoostingClassifier，并设置里面固定参数；然后设置需要调优的参数，然后通过 网格搜索 `GridSearchCV` 进行搜索最优参数。由于数据量已经减少，这里你可以将参数设置的大一些，以提升模型的准确度，但要防止过拟合。"
   ]
  },
  {
   "cell_type": "code",
   "execution_count": null,
   "metadata": {
    "pycharm": {
     "name": "#%%\n"
    }
   },
   "outputs": [],
   "source": [
    "from sklearn.model_selection import train_test_split\n",
    "from sklearn.ensemble import GradientBoostingClassifier\n",
    "from sklearn.model_selection import GridSearchCV\n",
    "from sklearn import metrics\n",
    "\n",
    "s = metrics.make_scorer(metrics.fbeta_score,beta=1)\n",
    "\n",
    "# TODO: 需要调的参数，比如 max_depth, n_estimators, learning_rate\n",
    "cv_params = {\"n_estimators\": [50,100,500,1000], \"max_depth\":[2,3,5]}\n",
    "\n",
    "\n",
    "#TODO：设置 GBDT 分类器 GradientBoostingClassifier\n",
    "model = GradientBoostingClassifier()\n",
    "# TODO: 设置 GridSearchCV\n",
    "grid_cv = GridSearchCV(model, cv_params, s)\n",
    "# TODO: 模型训练\n",
    "grid_cv.fit(train_x, train_y)\n",
    "\n",
    "# TODO：在测试集上预测，并计算accuracy和f-score\n",
    "predict = grid_cv.predict(test_x)\n",
    "print(metrics.fbeta_score(test_y, predict))\n",
    "print(metrics.accuracy(test_y, predict))\n",
    "\n",
    "# TODO：打印最优参数\n"
   ]
  },
  {
   "cell_type": "code",
   "execution_count": null,
   "metadata": {
    "pycharm": {
     "name": "#%%\n"
    }
   },
   "outputs": [],
   "source": [
    "predict = grid_cv.predict(test_x)\n",
    "print(metrics.fbeta_score(test_y, predict,beta=1))\n",
    "print(metrics.accuracy_score(test_y, predict))"
   ]
  },
  {
   "cell_type": "code",
   "execution_count": null,
   "metadata": {
    "pycharm": {
     "name": "#%%\n"
    }
   },
   "outputs": [],
   "source": [
    "print(grid_cv.best_estimator_)"
   ]
  },
  {
   "cell_type": "markdown",
   "metadata": {
    "pycharm": {
     "name": "#%% md\n"
    }
   },
   "source": [
    "### 对 Xgboost 进行调参\n",
    "关于xgboost 的参数设置和调参与gbdt类似，参数也是类似的，比如 `n_estimators`表示树的个数；`max_depth`表示构建树的深度，越大越容易过拟合；`gamma`表示用于控制是否后剪枝的参数；`reg_lambda`是用来控制模型复杂度的L2正则化的参数，值越大，模型越不容易过拟合，等等。由于数据量已经减少，这里你可以将参数设置的大一些，以提升模型的准确度，但要防止过拟合。\n",
    "\n",
    "如果没有安装过xgboost，你需要先运行以下代码来安装 xgboost"
   ]
  },
  {
   "cell_type": "code",
   "execution_count": null,
   "metadata": {
    "pycharm": {
     "name": "#%%\n"
    }
   },
   "outputs": [],
   "source": []
  },
  {
   "cell_type": "code",
   "execution_count": null,
   "metadata": {
    "pycharm": {
     "name": "#%%\n"
    }
   },
   "outputs": [],
   "source": [
    "!pip install xgboost"
   ]
  },
  {
   "cell_type": "code",
   "execution_count": null,
   "metadata": {
    "pycharm": {
     "name": "#%%\n"
    }
   },
   "outputs": [],
   "source": [
    "### 使用Xgboost 进行训练和测试\n",
    "import xgboost as xgb\n",
    "\n",
    "\n",
    "# TODO: 选择要调优的参数, 比如max_depth, n_estimator,learning_rate\n",
    "cv_params = {\"n_estimators\": [5,10], \"max_depth\":[2,3]}\n",
    "model = xgb.XGBModel()\n",
    "\n",
    "grid_cv = GridSearchCV(model, cv_params)\n",
    "grid_cv.fit(train_x, train_y)\n",
    "\n",
    "\n",
    "# TODO：在测试集上预测，并计算准确率\n",
    "\n",
    "# TODO：预测测试集的结果\n",
    "predict_y = grid_cv.predict(test_x)\n",
    "# TODO：计算 准确率\n",
    "\n",
    "auc=  metrics.accuracy_score(test_y, predict_y)\n",
    "# 打印准确率结果\n",
    "print(\"准确率：{}\".format(auc))\n",
    "\n",
    "# TODO：打印最优参数\n"
   ]
  },
  {
   "cell_type": "code",
   "execution_count": 31,
   "metadata": {},
   "outputs": [],
   "source": [
    "#### 问题9：在这个任务中，`GBDT`和`xgboost`的性能如何？哪一个更优？通过此次对比和调参过程，总结你对**梯度提升决策树**调参的经验与总结\n",
    "\n",
    "回答问题："
   ]
  },
  {
   "cell_type": "markdown",
   "metadata": {
    "pycharm": {
     "name": "#%% md\n"
    }
   },
   "source": [
    "### 对 gbdt 进行调参\n",
    "\n",
    "按照上面简单模型构建部分的流程，先定义一个梯度提升决策树分类器 GradientBoostingClassifier，并设置里面固定参数；然后设置需要调优的参数，然后通过 网格搜索 `GridSearchCV` 进行搜索最优参数。由于数据量已经减少，这里你可以将参数设置的大一些，以提升模型的准确度，但要防止过拟合。"
   ]
  },
  {
   "cell_type": "code",
   "execution_count": 32,
   "metadata": {
    "pycharm": {
     "name": "#%%\n"
    }
   },
   "outputs": [
    {
     "name": "stderr",
     "output_type": "stream",
     "text": [
      "/Users/tristan/anaconda3/lib/python3.7/site-packages/sklearn/model_selection/_split.py:1978: FutureWarning: The default value of cv will change from 3 to 5 in version 0.22. Specify it explicitly to silence this warning.\n",
      "  warnings.warn(CV_WARNING, FutureWarning)\n"
     ]
    },
    {
     "ename": "TypeError",
     "evalue": "fbeta_score() missing 1 required positional argument: 'beta'",
     "output_type": "error",
     "traceback": [
      "\u001b[0;31m---------------------------------------------------------------------------\u001b[0m",
      "\u001b[0;31mTypeError\u001b[0m                                 Traceback (most recent call last)",
      "\u001b[0;32m<ipython-input-32-bf4744697f2f>\u001b[0m in \u001b[0;36m<module>\u001b[0;34m\u001b[0m\n\u001b[1;32m     19\u001b[0m \u001b[0;31m# TODO：在测试集上预测，并计算accuracy和f-score\u001b[0m\u001b[0;34m\u001b[0m\u001b[0;34m\u001b[0m\u001b[0;34m\u001b[0m\u001b[0m\n\u001b[1;32m     20\u001b[0m \u001b[0mpredict\u001b[0m \u001b[0;34m=\u001b[0m \u001b[0mgrid_cv\u001b[0m\u001b[0;34m.\u001b[0m\u001b[0mpredict\u001b[0m\u001b[0;34m(\u001b[0m\u001b[0mtest_x\u001b[0m\u001b[0;34m)\u001b[0m\u001b[0;34m\u001b[0m\u001b[0;34m\u001b[0m\u001b[0m\n\u001b[0;32m---> 21\u001b[0;31m \u001b[0mprint\u001b[0m\u001b[0;34m(\u001b[0m\u001b[0mmetrics\u001b[0m\u001b[0;34m.\u001b[0m\u001b[0mfbeta_score\u001b[0m\u001b[0;34m(\u001b[0m\u001b[0mtest_y\u001b[0m\u001b[0;34m,\u001b[0m \u001b[0mpredict\u001b[0m\u001b[0;34m)\u001b[0m\u001b[0;34m)\u001b[0m\u001b[0;34m\u001b[0m\u001b[0;34m\u001b[0m\u001b[0m\n\u001b[0m\u001b[1;32m     22\u001b[0m \u001b[0mprint\u001b[0m\u001b[0;34m(\u001b[0m\u001b[0mmetrics\u001b[0m\u001b[0;34m.\u001b[0m\u001b[0maccuracy\u001b[0m\u001b[0;34m(\u001b[0m\u001b[0mtest_y\u001b[0m\u001b[0;34m,\u001b[0m \u001b[0mpredict\u001b[0m\u001b[0;34m)\u001b[0m\u001b[0;34m)\u001b[0m\u001b[0;34m\u001b[0m\u001b[0;34m\u001b[0m\u001b[0m\n\u001b[1;32m     23\u001b[0m \u001b[0;34m\u001b[0m\u001b[0m\n",
      "\u001b[0;31mTypeError\u001b[0m: fbeta_score() missing 1 required positional argument: 'beta'"
     ]
    }
   ],
   "source": [
    "from sklearn.model_selection import train_test_split\n",
    "from sklearn.ensemble import GradientBoostingClassifier\n",
    "from sklearn.model_selection import GridSearchCV\n",
    "from sklearn import metrics\n",
    "\n",
    "s = metrics.make_scorer(metrics.fbeta_score,beta=1)\n",
    "\n",
    "# TODO: 需要调的参数，比如 max_depth, n_estimators, learning_rate\n",
    "cv_params = {\"n_estimators\": [50,100,500,1000], \"max_depth\":[2,3,5]}\n",
    "\n",
    "\n",
    "#TODO：设置 GBDT 分类器 GradientBoostingClassifier\n",
    "model = GradientBoostingClassifier()\n",
    "# TODO: 设置 GridSearchCV\n",
    "grid_cv = GridSearchCV(model, cv_params, s)\n",
    "# TODO: 模型训练\n",
    "grid_cv.fit(train_x, train_y)\n",
    "\n",
    "# TODO：在测试集上预测，并计算accuracy和f-score\n",
    "predict = grid_cv.predict(test_x)\n",
    "print(metrics.fbeta_score(test_y, predict))\n",
    "print(metrics.accuracy(test_y, predict))\n",
    "\n",
    "# TODO：打印最优参数\n"
   ]
  },
  {
   "cell_type": "code",
   "execution_count": 37,
   "metadata": {},
   "outputs": [
    {
     "name": "stdout",
     "output_type": "stream",
     "text": [
      "GradientBoostingClassifier(criterion='friedman_mse', init=None,\n",
      "                           learning_rate=0.1, loss='deviance', max_depth=3,\n",
      "                           max_features=None, max_leaf_nodes=None,\n",
      "                           min_impurity_decrease=0.0, min_impurity_split=None,\n",
      "                           min_samples_leaf=1, min_samples_split=2,\n",
      "                           min_weight_fraction_leaf=0.0, n_estimators=1000,\n",
      "                           n_iter_no_change=None, presort='auto',\n",
      "                           random_state=None, subsample=1.0, tol=0.0001,\n",
      "                           validation_fraction=0.1, verbose=0,\n",
      "                           warm_start=False)\n"
     ]
    }
   ],
   "source": [
    "print(grid_cv.best_estimator_)"
   ]
  },
  {
   "cell_type": "markdown",
   "metadata": {
    "pycharm": {
     "name": "#%% md\n"
    }
   },
   "source": [
    "### 对 Xgboost 进行调参\n",
    "关于xgboost 的参数设置和调参与gbdt类似，参数也是类似的，比如 `n_estimators`表示树的个数；`max_depth`表示构建树的深度，越大越容易过拟合；`gamma`表示用于控制是否后剪枝的参数；`reg_lambda`是用来控制模型复杂度的L2正则化的参数，值越大，模型越不容易过拟合，等等。由于数据量已经减少，这里你可以将参数设置的大一些，以提升模型的准确度，但要防止过拟合。\n",
    "\n",
    "如果没有安装过xgboost，你需要先运行以下代码来安装 xgboost"
   ]
  }
 ],
 "metadata": {
  "kernelspec": {
   "display_name": "Python 3",
   "language": "python",
   "name": "python3"
  },
  "language_info": {
   "codemirror_mode": {
    "name": "ipython",
    "version": 3
   },
   "file_extension": ".py",
   "mimetype": "text/x-python",
   "name": "python",
   "nbconvert_exporter": "python",
   "pygments_lexer": "ipython3",
   "version": "3.7.4"
  },
  "pycharm": {
   "stem_cell": {
    "cell_type": "raw",
    "source": [],
    "metadata": {
     "collapsed": false
    }
   }
  }
 },
 "nbformat": 4,
 "nbformat_minor": 2
}