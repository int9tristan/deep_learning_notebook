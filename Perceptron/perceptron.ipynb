{
 "cells": [
  {
   "cell_type": "code",
   "execution_count": 644,
   "metadata": {},
   "outputs": [
    {
     "name": "stdout",
     "output_type": "stream",
     "text": [
      "2.0 0.6000000000000001 [-2.]\n",
      "f1:1.0\n",
      "recall:1.0\n",
      "precision:1.0\n"
     ]
    },
    {
     "name": "stderr",
     "output_type": "stream",
     "text": [
      "/Users/tristan/anaconda3/lib/python3.7/site-packages/sklearn/utils/validation.py:724: DataConversionWarning: A column-vector y was passed when a 1d array was expected. Please change the shape of y to (n_samples, ), for example using ravel().\n",
      "  y = column_or_1d(y, warn=True)\n"
     ]
    },
    {
     "data": {
      "image/png": "[encoded data removed]",
      "text/plain": [
       "<Figure size 432x288 with 1 Axes>"
      ]
     },
     "metadata": {
      "needs_background": "light"
     },
     "output_type": "display_data"
    }
   ],
   "source": [
    "\n",
    "\n",
    "from sklearn.linear_model import Perceptron\n",
    "import numpy as np\n",
    "import pandas as pd\n",
    "import matplotlib.pyplot as plt#约定俗成的写法plt\n",
    "from sklearn.metrics import f1_score, recall_score, precision_score\n",
    "\n",
    "def plot(X,y,k,b):\n",
    "    M = len(X)\n",
    "    #正例和反例\n",
    "    positive_x1 = [X[i,0] for i in range(M) if y[i] == 1]\n",
    "    positive_x2 = [X[i,1] for i in range(M) if y[i] == 1]\n",
    "    negetive_x1 = [X[i,0] for i in range(M) if y[i] == -1]\n",
    "    negetive_x2 = [X[i,1] for i in range(M) if y[i] == -1]\n",
    "    plt.figure() # 定义一个图像窗口\n",
    "    colors1 = 'red' #点的颜色\n",
    "    colors2 = 'green'\n",
    "\n",
    "\n",
    "    plt.scatter(positive_x1, positive_x2, c=colors1)\n",
    "    plt.scatter(negetive_x1, negetive_x2, c=colors2)\n",
    "\n",
    "    x = np.linspace(-5, 5, 50) # 从0到1，等分50分\n",
    "\n",
    "    y = k * x  + b\n",
    "\n",
    "    plt.plot(x, y) # 绘制曲线 y\n",
    "    plt.show()\n",
    "   \n",
    "# x1+ X2 - 4 = 0\n",
    "from sklearn.datasets import make_classification\n",
    "X = np.array([[0, 1], [0.5, 0.2], [1, 2], [1.5, 1], [3, 2], [-2, -2.5], [0, 0]])\n",
    "y = np.array([[-1], [-1], [1], [1], [1], [-1], [-1]])\n",
    "\n",
    "model = Perceptron().fit(X, y)\n",
    "predict = model.predict(X)\n",
    "\n",
    "\n",
    "print(model.coef_[0][0],model.coef_[0][1], model.intercept_)\n",
    "\n",
    "\n",
    "print(f\"f1:{f1_score(y, predict)}\\nrecall:{recall_score(y, predict)}\\nprecision:{precision_score(y, predict)}\")\n",
    "\n",
    "plot(X,y,-model.coef_[0][0]/model.coef_[0][1],-model.intercept_)"
   ]
  },
  {
   "cell_type": "code",
   "execution_count": 646,
   "metadata": {},
   "outputs": [
    {
     "name": "stdout",
     "output_type": "stream",
     "text": [
      "权重不再更新\n"
     ]
    },
    {
     "data": {
      "image/png": "[encoded data removed]",
      "text/plain": [
       "<Figure size 432x288 with 1 Axes>"
      ]
     },
     "metadata": {
      "needs_background": "light"
     },
     "output_type": "display_data"
    },
    {
     "name": "stdout",
     "output_type": "stream",
     "text": [
      "[2. 1.] [-2]\n"
     ]
    }
   ],
   "source": [
    "def my_perceptron(X, y, w=np.zeros(n), b=0, alpha=1):\n",
    "    cnt = 1\n",
    "    while True:\n",
    "        temp_w = w\n",
    "        temp_b = b\n",
    "        for i in range(len(X)):\n",
    "            if ((np.dot(X[i], w) + b) * y[i])[0] <= 0:\n",
    "                w = w + (alpha * X[i] * y[i])\n",
    "                b = b + alpha * y[i]\n",
    "        if (temp_w == w).all() and temp_b == b:\n",
    "            print(\"权重不再更新\")\n",
    "            break\n",
    "        cnt += 1\n",
    "        if cnt > 50:\n",
    "            print(\"迭代次数完成\")\n",
    "            break\n",
    "    plot(X,y,-w[0]/w[1],-b[0]/w[1])\n",
    "    print(w,b)\n",
    "my_perceptron(X,y)"
   ]
  },
  {
   "cell_type": "code",
   "execution_count": 140,
   "metadata": {},
   "outputs": [
    {
     "data": {
      "text/html": [
       "<div>\n",
       "<style scoped>\n",
       "    .dataframe tbody tr th:only-of-type {\n",
       "        vertical-align: middle;\n",
       "    }\n",
       "\n",
       "    .dataframe tbody tr th {\n",
       "        vertical-align: top;\n",
       "    }\n",
       "\n",
       "    .dataframe thead th {\n",
       "        text-align: right;\n",
       "    }\n",
       "</style>\n",
       "<table border=\"1\" class=\"dataframe\">\n",
       "  <thead>\n",
       "    <tr style=\"text-align: right;\">\n",
       "      <th></th>\n",
       "      <th>0</th>\n",
       "      <th>1</th>\n",
       "    </tr>\n",
       "  </thead>\n",
       "  <tbody>\n",
       "    <tr>\n",
       "      <td>0</td>\n",
       "      <td>0</td>\n",
       "      <td>2</td>\n",
       "    </tr>\n",
       "    <tr>\n",
       "      <td>1</td>\n",
       "      <td>1</td>\n",
       "      <td>2</td>\n",
       "    </tr>\n",
       "    <tr>\n",
       "      <td>2</td>\n",
       "      <td>0</td>\n",
       "      <td>3</td>\n",
       "    </tr>\n",
       "    <tr>\n",
       "      <td>3</td>\n",
       "      <td>2</td>\n",
       "      <td>2</td>\n",
       "    </tr>\n",
       "  </tbody>\n",
       "</table>\n",
       "</div>"
      ],
      "text/plain": [
       "   0  1\n",
       "0  0  2\n",
       "1  1  2\n",
       "2  0  3\n",
       "3  2  2"
      ]
     },
     "execution_count": 140,
     "metadata": {},
     "output_type": "execute_result"
    }
   ],
   "source": [
    "X"
   ]
  },
  {
   "cell_type": "code",
   "execution_count": 4,
   "metadata": {},
   "outputs": [],
   "source": []
  },
  {
   "cell_type": "code",
   "execution_count": 31,
   "metadata": {},
   "outputs": [],
   "source": []
  },
  {
   "cell_type": "code",
   "execution_count": 36,
   "metadata": {},
   "outputs": [],
   "source": []
  },
  {
   "cell_type": "code",
   "execution_count": 39,
   "metadata": {},
   "outputs": [],
   "source": []
  },
  {
   "cell_type": "code",
   "execution_count": 42,
   "metadata": {},
   "outputs": [
    {
     "name": "stderr",
     "output_type": "stream",
     "text": [
      "/Users/tristan/anaconda3/lib/python3.7/site-packages/sklearn/utils/validation.py:724: DataConversionWarning: A column-vector y was passed when a 1d array was expected. Please change the shape of y to (n_samples, ), for example using ravel().\n",
      "  y = column_or_1d(y, warn=True)\n"
     ]
    }
   ],
   "source": []
  },
  {
   "cell_type": "code",
   "execution_count": 44,
   "metadata": {},
   "outputs": [
    {
     "data": {
      "text/plain": [
       "array([0, 1, 0, 1])"
      ]
     },
     "execution_count": 44,
     "metadata": {},
     "output_type": "execute_result"
    }
   ],
   "source": [
    "\n"
   ]
  },
  {
   "cell_type": "code",
   "execution_count": null,
   "metadata": {},
   "outputs": [],
   "source": []
  }
 ],
 "metadata": {
  "kernelspec": {
   "display_name": "Python 3",
   "language": "python",
   "name": "python3"
  },
  "language_info": {
   "codemirror_mode": {
    "name": "ipython",
    "version": 3
   },
   "file_extension": ".py",
   "mimetype": "text/x-python",
   "name": "python",
   "nbconvert_exporter": "python",
   "pygments_lexer": "ipython3",
   "version": "3.7.4"
  }
 },
 "nbformat": 4,
 "nbformat_minor": 2
}
